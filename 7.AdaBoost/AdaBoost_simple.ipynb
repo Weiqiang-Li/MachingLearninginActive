{
 "cells": [
  {
   "cell_type": "code",
   "execution_count": 3,
   "metadata": {
    "collapsed": true
   },
   "outputs": [],
   "source": [
    "import numpy as np\n",
    "import matplotlib.pyplot as plt"
   ]
  },
  {
   "cell_type": "code",
   "execution_count": 12,
   "metadata": {
    "collapsed": true
   },
   "outputs": [],
   "source": [
    "def loadSimpData():\n",
    "    dataMat = np.mat([\n",
    "        [1.0,2.1],\n",
    "        [1.5,1.6],\n",
    "        [1.3,1.0],\n",
    "        [1.0,1.0],\n",
    "        [2.0,1.0],\n",
    "    ])\n",
    "    classLabels = [1.0,1.0,-1.0,-1.0,1.0]\n",
    "    return dataMat,classLabels"
   ]
  },
  {
   "cell_type": "code",
   "execution_count": 13,
   "metadata": {},
   "outputs": [
    {
     "data": {
      "image/png": "[encoded data removed]",
      "text/plain": [
       "<matplotlib.figure.Figure at 0x2698f23d160>"
      ]
     },
     "metadata": {},
     "output_type": "display_data"
    }
   ],
   "source": [
    "dataMat,classLabels = loadSimpData()\n",
    "fig = plt.figure()\n",
    "ax = fig.add_subplot(111)\n",
    "for i in range(len(classLabels)):\n",
    "    if classLabels[i] == 1.0:\n",
    "        ax.scatter(dataMat[i,0],dataMat[i,1],marker = 'o',color = 'r')\n",
    "    else:\n",
    "        ax.scatter(dataMat[i,0],dataMat[i,1],marker = 's',color = 'b')\n",
    "plt.show()"
   ]
  },
  {
   "cell_type": "code",
   "execution_count": 16,
   "metadata": {
    "collapsed": true
   },
   "outputs": [],
   "source": [
    "# 定义decision stump 单层决策树\n",
    "def stumpClasify(dataMatrix,dimen,threshVal,threshIneq):\n",
    "    retArray = np.ones((np.shape(dataMatrix)[0],1)) # 返回划分结果矩阵\n",
    "    # 对应数值数据有两种分类方向\n",
    "    # 对于标称数据有等于和不等两种情况（决策树中的情况）\n",
    "    if threshIneq == 'lt':\n",
    "        retArray[dataMatrix[:,dimen] <= threshVal] = -1.0 # 平行于坐标轴的直线为阈值，分类，小于阈值的为-1.0 ，\n",
    "    else:\n",
    "        retArray[dataMatrix[:,dimen] > threshVal] = -1.0 # 大于阈值的为 -1.0 两种分类方向\n",
    "    return retArray"
   ]
  },
  {
   "cell_type": "code",
   "execution_count": 37,
   "metadata": {
    "collapsed": true
   },
   "outputs": [],
   "source": [
    "def buildStump(dataArr,classLabels,D):\n",
    "    dataMatrix = np.mat(dataArr)\n",
    "    labelMatrix = np.mat(classLabels).T\n",
    "    m,n = np.shape(dataMatrix)\n",
    "    numSteps = 10.0 # 步数，决定可能的取值情况\n",
    "    bestStump = {}  # 存储最优单层树\n",
    "    bestClassEst = np.mat(np.zeros((m,1))) # 存储最优单层树的分类误差\n",
    "    minError = np.inf # 初始化误差为无穷大\n",
    "    for i in range(n): # 对于每个维度上的特征\n",
    "        rangeMin = dataMatrix[:,i].min()\n",
    "        rangeMax = dataMatrix[:,i].max()\n",
    "        stepSize = (rangeMax - rangeMin)/numSteps\n",
    "        for j in range(-1,int(numSteps)+1): # 对于每一个可能取值的步长，这里额外处理取值范围之外的点\n",
    "            for inequal in ['lt','gt']: # 对于该取值下的两种不同分类方向\n",
    "                threshVal = rangeMin + j*stepSize # 计算此时的阈值\n",
    "                predictedVals = stumpClasify(dataMatrix,i,threshVal,inequal)\n",
    "                errArr = np.mat(np.ones((m,1))) # 创建一个错误分类项挑选矩阵\n",
    "                errArr[predictedVals == labelMatrix] = 0 # 挑选\n",
    "                # 这里是评估在相同权重D情况下，最优的单层决策树的评估值，\n",
    "                #也是用于更新alpha以及D的错误率\n",
    "                weightedError = D.T*errArr # 计算加权错误？？？ \n",
    "#                 print(\"split: dim %d, thresh %.2f, thresh inequal: %s, the weighted error is %.3f\"%(i,threshVal,inequal,weightedError))\n",
    "                if weightedError < minError:\n",
    "                    minError = weightedError\n",
    "                    bestClassEst = predictedVals\n",
    "                    bestStump['dim'] = i\n",
    "                    bestStump['thresh'] = threshVal\n",
    "                    bestStump['ineq'] = inequal\n",
    "    return bestStump,minError,bestClassEst"
   ]
  },
  {
   "cell_type": "code",
   "execution_count": 35,
   "metadata": {},
   "outputs": [
    {
     "name": "stdout",
     "output_type": "stream",
     "text": [
      "split: dim 0, thresh 0.90, thresh inequal: lt, the weighted error is 0.400\n",
      "split: dim 0, thresh 0.90, thresh inequal: gt, the weighted error is 0.600\n",
      "split: dim 0, thresh 1.00, thresh inequal: lt, the weighted error is 0.400\n",
      "split: dim 0, thresh 1.00, thresh inequal: gt, the weighted error is 0.600\n",
      "split: dim 0, thresh 1.10, thresh inequal: lt, the weighted error is 0.400\n",
      "split: dim 0, thresh 1.10, thresh inequal: gt, the weighted error is 0.600\n",
      "split: dim 0, thresh 1.20, thresh inequal: lt, the weighted error is 0.400\n",
      "split: dim 0, thresh 1.20, thresh inequal: gt, the weighted error is 0.600\n",
      "split: dim 0, thresh 1.30, thresh inequal: lt, the weighted error is 0.200\n",
      "split: dim 0, thresh 1.30, thresh inequal: gt, the weighted error is 0.800\n",
      "split: dim 0, thresh 1.40, thresh inequal: lt, the weighted error is 0.200\n",
      "split: dim 0, thresh 1.40, thresh inequal: gt, the weighted error is 0.800\n",
      "split: dim 0, thresh 1.50, thresh inequal: lt, the weighted error is 0.400\n",
      "split: dim 0, thresh 1.50, thresh inequal: gt, the weighted error is 0.600\n",
      "split: dim 0, thresh 1.60, thresh inequal: lt, the weighted error is 0.400\n",
      "split: dim 0, thresh 1.60, thresh inequal: gt, the weighted error is 0.600\n",
      "split: dim 0, thresh 1.70, thresh inequal: lt, the weighted error is 0.400\n",
      "split: dim 0, thresh 1.70, thresh inequal: gt, the weighted error is 0.600\n",
      "split: dim 0, thresh 1.80, thresh inequal: lt, the weighted error is 0.400\n",
      "split: dim 0, thresh 1.80, thresh inequal: gt, the weighted error is 0.600\n",
      "split: dim 0, thresh 1.90, thresh inequal: lt, the weighted error is 0.400\n",
      "split: dim 0, thresh 1.90, thresh inequal: gt, the weighted error is 0.600\n",
      "split: dim 0, thresh 2.00, thresh inequal: lt, the weighted error is 0.600\n",
      "split: dim 0, thresh 2.00, thresh inequal: gt, the weighted error is 0.400\n",
      "split: dim 1, thresh 0.89, thresh inequal: lt, the weighted error is 0.400\n",
      "split: dim 1, thresh 0.89, thresh inequal: gt, the weighted error is 0.600\n",
      "split: dim 1, thresh 1.00, thresh inequal: lt, the weighted error is 0.200\n",
      "split: dim 1, thresh 1.00, thresh inequal: gt, the weighted error is 0.800\n",
      "split: dim 1, thresh 1.11, thresh inequal: lt, the weighted error is 0.200\n",
      "split: dim 1, thresh 1.11, thresh inequal: gt, the weighted error is 0.800\n",
      "split: dim 1, thresh 1.22, thresh inequal: lt, the weighted error is 0.200\n",
      "split: dim 1, thresh 1.22, thresh inequal: gt, the weighted error is 0.800\n",
      "split: dim 1, thresh 1.33, thresh inequal: lt, the weighted error is 0.200\n",
      "split: dim 1, thresh 1.33, thresh inequal: gt, the weighted error is 0.800\n",
      "split: dim 1, thresh 1.44, thresh inequal: lt, the weighted error is 0.200\n",
      "split: dim 1, thresh 1.44, thresh inequal: gt, the weighted error is 0.800\n",
      "split: dim 1, thresh 1.55, thresh inequal: lt, the weighted error is 0.200\n",
      "split: dim 1, thresh 1.55, thresh inequal: gt, the weighted error is 0.800\n",
      "split: dim 1, thresh 1.66, thresh inequal: lt, the weighted error is 0.400\n",
      "split: dim 1, thresh 1.66, thresh inequal: gt, the weighted error is 0.600\n",
      "split: dim 1, thresh 1.77, thresh inequal: lt, the weighted error is 0.400\n",
      "split: dim 1, thresh 1.77, thresh inequal: gt, the weighted error is 0.600\n",
      "split: dim 1, thresh 1.88, thresh inequal: lt, the weighted error is 0.400\n",
      "split: dim 1, thresh 1.88, thresh inequal: gt, the weighted error is 0.600\n",
      "split: dim 1, thresh 1.99, thresh inequal: lt, the weighted error is 0.400\n",
      "split: dim 1, thresh 1.99, thresh inequal: gt, the weighted error is 0.600\n",
      "split: dim 1, thresh 2.10, thresh inequal: lt, the weighted error is 0.600\n",
      "split: dim 1, thresh 2.10, thresh inequal: gt, the weighted error is 0.400\n"
     ]
    },
    {
     "data": {
      "text/plain": [
       "({'dim': 0, 'ineq': 'lt', 'thresh': 1.3}, matrix([[ 0.2]]), array([[-1.],\n",
       "        [ 1.],\n",
       "        [-1.],\n",
       "        [-1.],\n",
       "        [ 1.]]))"
      ]
     },
     "execution_count": 35,
     "metadata": {},
     "output_type": "execute_result"
    }
   ],
   "source": [
    "D = np.mat(np.ones((5,1))/5)\n",
    "buildStump(dataMat,classLabels,D)"
   ]
  },
  {
   "cell_type": "code",
   "execution_count": 47,
   "metadata": {},
   "outputs": [],
   "source": [
    " def adaBoostTrainDS(dataArr,classLabels,numIt = 40):\n",
    "        weakClassArr = [] # 分类器列表\n",
    "        m = np.shape(dataArr)[0]\n",
    "        D = np.mat(np.ones((m,1))/m) # 初始样本权重矩阵\n",
    "        aggClassEst = np.mat(np.zeros((m,1))) # 计算最终分类结果的矩阵\n",
    "        for i in range(numIt):\n",
    "            bestStump,error,classEst = buildStump(dataArr,classLabels,D) # 寻找当前D情况下的最优DS decision stump\n",
    "            print('D;'+str(D.T))\n",
    "            \n",
    "            alpha = float(0.5*np.log((1.0-error)/max(error,1e-16))) # 计算当前DS的权重并存贮\n",
    "            bestStump['alpha'] = alpha\n",
    "            weakClassArr.append(bestStump)\n",
    "            print('class:'+str(classEst.T))\n",
    "            \n",
    "            expon = np.multiply(-1*alpha*np.mat(classLabels).T,classEst)  # np.mat(classLabels).T,classEst 的对应相乘，决定了D是增加还是减小\n",
    "            D = np.multiply(D,np.exp(expon))\n",
    "            D = D/D.sum() # 这里要使用更新权重分子后的D来计算sum，以保证D总和为1，D 本身是一个概率分布向量\n",
    "            \n",
    "            aggClassEst += alpha*classEst # 概率估计值，是概率值，还不是最终分类标签\n",
    "            print('aggClassEst:'+str(aggClassEst.T))\n",
    "            aggErrors = np.multiply(np.sign(aggClassEst) != np.mat(classLabels).T, np.ones((m,1))) \n",
    "            # np.sign(aggClassEst) 将概率估计结果转为label\n",
    "            # np.sign(aggClassEst) != np.mat(classLabels).T 产生一个分类准确性 boolean 矩阵\n",
    "            # 与 np.ones((m,1)) 的对应相乘 将 boolean 转换为 1 或 0\n",
    "            errorRate = aggErrors.sum()/m\n",
    "            print('total error: '+str(errorRate))\n",
    "            if errorRate == 0.0 : break\n",
    "        return weakClassArr"
   ]
  },
  {
   "cell_type": "code",
   "execution_count": 50,
   "metadata": {},
   "outputs": [
    {
     "name": "stdout",
     "output_type": "stream",
     "text": [
      "D;[[ 0.2  0.2  0.2  0.2  0.2]]\n",
      "class:[[-1.  1. -1. -1.  1.]]\n",
      "aggClassEst:[[-0.69314718  0.69314718 -0.69314718 -0.69314718  0.69314718]]\n",
      "total error: 0.2\n",
      "D;[[ 0.5    0.125  0.125  0.125  0.125]]\n",
      "class:[[ 1.  1. -1. -1. -1.]]\n",
      "aggClassEst:[[ 0.27980789  1.66610226 -1.66610226 -1.66610226 -0.27980789]]\n",
      "total error: 0.2\n",
      "D;[[ 0.28571429  0.07142857  0.07142857  0.07142857  0.5       ]]\n",
      "class:[[ 1.  1.  1.  1.  1.]]\n",
      "aggClassEst:[[ 1.17568763  2.56198199 -0.77022252 -0.77022252  0.61607184]]\n",
      "total error: 0.0\n"
     ]
    },
    {
     "data": {
      "text/plain": [
       "[{'alpha': 0.6931471805599453, 'dim': 0, 'ineq': 'lt', 'thresh': 1.3},\n",
       " {'alpha': 0.9729550745276565, 'dim': 1, 'ineq': 'lt', 'thresh': 1.0},\n",
       " {'alpha': 0.8958797346140273,\n",
       "  'dim': 0,\n",
       "  'ineq': 'lt',\n",
       "  'thresh': 0.90000000000000002}]"
      ]
     },
     "execution_count": 50,
     "metadata": {},
     "output_type": "execute_result"
    }
   ],
   "source": [
    "# 被分类错误的点在下次的迭代中增加了权重，\n",
    "# 每一次的分类错误率由分类结果和样本权重D决定，上次分类错误的样本权重增大，寻找最优分类器过程中，会使得该样本分类正确的概率增加，\n",
    "# 本次使得上次分类错误的样本分类正确，但也会使得一部分样本上次分类错误，这一次分类不正确\n",
    "# 因此D的不同，导致弱分类器的分类是有侧重的，侧重量由alpha决定\n",
    "# 在每一次的分类结果对于评估最终值的影响程度由分类器权重alpha决定，alpha的值由该分类器错误率决定\n",
    "# 最终将所有分类结果加权求和，就是最终分类结果\n",
    "\n",
    "# 最然弱分类器的分类效果不好，但是权重D，alpha的相互配合导致，每个分类器在这些分类错误点上各有侧重，总有一个能把结果分对\n",
    "classiferArr = adaBoostTrainDS(dataMat,classLabels,9)\n",
    "classiferArr"
   ]
  },
  {
   "cell_type": "code",
   "execution_count": 52,
   "metadata": {
    "collapsed": true
   },
   "outputs": [],
   "source": [
    "# 分类结果进行加权求和\n",
    "def adaClassify(dataToClass,classiferArr):\n",
    "    dataMatrix = np.mat(dataToClass)\n",
    "    m = np.shape(dataMatrix)[0]\n",
    "    aggClassEst = np.mat(np.zeros((m,1)))\n",
    "    for i in range(len(classiferArr)):\n",
    "        classEst = stumpClasify(dataMatrix,classiferArr[i]['dim'],classiferArr[i]['thresh'],classiferArr[i]['ineq'])\n",
    "        aggClassEst += classiferArr[i]['alpha']*classEst \n",
    "        print(aggClassEst)\n",
    "    return np.sign(aggClassEst)    "
   ]
  },
  {
   "cell_type": "code",
   "execution_count": 53,
   "metadata": {},
   "outputs": [
    {
     "name": "stdout",
     "output_type": "stream",
     "text": [
      "[[-0.69314718]]\n",
      "[[-1.66610226]]\n",
      "[[-2.56198199]]\n"
     ]
    },
    {
     "data": {
      "text/plain": [
       "matrix([[-1.]])"
      ]
     },
     "execution_count": 53,
     "metadata": {},
     "output_type": "execute_result"
    }
   ],
   "source": [
    "adaClassify([0,0],classiferArr)"
   ]
  },
  {
   "cell_type": "code",
   "execution_count": 54,
   "metadata": {},
   "outputs": [
    {
     "name": "stdout",
     "output_type": "stream",
     "text": [
      "[[-0.69314718]]\n",
      "[[ 0.27980789]]\n",
      "[[ 1.17568763]]\n"
     ]
    },
    {
     "data": {
      "text/plain": [
       "matrix([[ 1.]])"
      ]
     },
     "execution_count": 54,
     "metadata": {},
     "output_type": "execute_result"
    }
   ],
   "source": [
    "adaClassify([1.1,1.1],classiferArr)"
   ]
  }
 ],
 "metadata": {
  "kernelspec": {
   "display_name": "Python 3.6 root",
   "language": "python",
   "name": "python3"
  },
  "language_info": {
   "codemirror_mode": {
    "name": "ipython",
    "version": 3
   },
   "file_extension": ".py",
   "mimetype": "text/x-python",
   "name": "python",
   "nbconvert_exporter": "python",
   "pygments_lexer": "ipython3",
   "version": "3.6.3"
  }
 },
 "nbformat": 4,
 "nbformat_minor": 2
}
