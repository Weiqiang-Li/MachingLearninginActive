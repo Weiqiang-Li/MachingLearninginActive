{
 "cells": [
  {
   "cell_type": "code",
   "execution_count": 123,
   "metadata": {
    "collapsed": true
   },
   "outputs": [],
   "source": [
    "import numpy as np\n",
    "import matplotlib.pyplot as plt"
   ]
  },
  {
   "cell_type": "code",
   "execution_count": 40,
   "metadata": {
    "collapsed": true
   },
   "outputs": [],
   "source": [
    "def loadDataSet(fileName):\n",
    "    dataMat = []\n",
    "    with open(fileName) as fr:\n",
    "        for line in fr.readlines():\n",
    "            currentLine  = line.strip().split('\\t')\n",
    "            fltLine = map(float,currentLine)\n",
    "            dataMat.append(list(fltLine))\n",
    "    return np.mat(dataMat)"
   ]
  },
  {
   "cell_type": "code",
   "execution_count": 20,
   "metadata": {},
   "outputs": [],
   "source": [
    "def binSplitDataSet(dataSet,feature,value):\n",
    "    mat0 = dataSet[np.nonzero(dataSet[:,feature]>value)[0],:] # np.nonzero 对True False 矩阵寻找True值的索引，[0] 取出行索引\n",
    "    mat1 = dataSet[np.nonzero(dataSet[:,feature]<=value)[0],:]\n",
    "    return mat0,mat1"
   ]
  },
  {
   "cell_type": "code",
   "execution_count": 21,
   "metadata": {},
   "outputs": [
    {
     "data": {
      "text/plain": [
       "matrix([[ 1.,  0.,  0.,  0.],\n",
       "        [ 0.,  1.,  0.,  0.],\n",
       "        [ 0.,  0.,  1.,  0.],\n",
       "        [ 0.,  0.,  0.,  1.]])"
      ]
     },
     "execution_count": 21,
     "metadata": {},
     "output_type": "execute_result"
    }
   ],
   "source": [
    "testMat = np.mat(np.eye(4))\n",
    "testMat"
   ]
  },
  {
   "cell_type": "code",
   "execution_count": 25,
   "metadata": {},
   "outputs": [
    {
     "data": {
      "text/plain": [
       "(matrix([[ 0.,  1.,  0.,  0.]]), matrix([[ 1.,  0.,  0.,  0.],\n",
       "         [ 0.,  0.,  1.,  0.],\n",
       "         [ 0.,  0.,  0.,  1.]]))"
      ]
     },
     "execution_count": 25,
     "metadata": {},
     "output_type": "execute_result"
    }
   ],
   "source": [
    "binSplitDataSet(testMat,1,0.5)"
   ]
  },
  {
   "cell_type": "markdown",
   "metadata": {},
   "source": [
    "## 回归树"
   ]
  },
  {
   "cell_type": "code",
   "execution_count": 266,
   "metadata": {
    "collapsed": true
   },
   "outputs": [],
   "source": [
    "## 回归树：\n",
    "\n",
    "# 叶子节点构建方式\n",
    "# 回归树：叶子节点是一个常数，整体上由常数构成一个分段函数\n",
    "def regLeaf(dataSet):\n",
    "    return np.mean(dataSet[:,-1])\n",
    "\n",
    "# 对连续值数据集判断数据混乱程度\n",
    "# 数据集本身特性，所以用数据集本身就可以了\n",
    "def regErr(dataSet):\n",
    "    return np.var(dataSet[:,-1])*np.shape(dataSet)[0] # 计算总方差 = 均方差 * 样本个数"
   ]
  },
  {
   "cell_type": "markdown",
   "metadata": {},
   "source": [
    "## 模型树"
   ]
  },
  {
   "cell_type": "code",
   "execution_count": 267,
   "metadata": {
    "collapsed": true
   },
   "outputs": [],
   "source": [
    "## 模型树：\n",
    "# 叶子节点是线性函数，整个树就是一个分段线性函数，每段内数据是线性的\n",
    "def linearSolve(dataSet):\n",
    "    m,n = np.shape(dataSet)\n",
    "    X = np.mat(np.ones((m,n)))\n",
    "    Y = np.mat(np.ones((m,1)))\n",
    "    X[:,1:n] = dataSet[:,0:n-1]\n",
    "    Y = dataSet[:,-1]\n",
    "    xTx = X.T * X\n",
    "    if np.linalg.det(xTx) == 0.0:\n",
    "        print('逆矩阵不存在')\n",
    "    ws = xTx.I*(X.T*Y)\n",
    "    return ws,X,Y\n",
    "\n",
    "\n",
    "# 对于模型而言，其实就是其ws\n",
    "def modelLeaf(dataSet):\n",
    "    ws,X,Y = linearSolve(dataSet)\n",
    "    return ws\n",
    "\n",
    "def modelErr(dataSet):\n",
    "    ws,X,Y = linearSolve(dataSet)\n",
    "    yHat = X*ws\n",
    "    return np.sum(np.power(Y - yHat,2))"
   ]
  },
  {
   "cell_type": "code",
   "execution_count": 323,
   "metadata": {},
   "outputs": [],
   "source": [
    "def chooseBestSplit(dataSet,leafType,errType,opt):\n",
    "    tolS = opt[0] # 两个预剪枝条件，误差大小控制\n",
    "    tolN = opt[1] # 子节点数据量控制\n",
    "    if len(set(dataSet[:,-1].T.tolist()[0])) == 1:\n",
    "#         print(\"数据类型相同\")\n",
    "        return None,leafType(dataSet)# 叶子节点来源1 # 数据等值\n",
    "    m,n = np.shape(dataSet)\n",
    "    S = errType(dataSet)\n",
    "    bestS = np.inf\n",
    "    bestIndex = 0\n",
    "    bestValue = 0\n",
    "    for featIndex in range(n-1): # 这个地方要减去最后一列的label值\n",
    "        for splitVal in set(dataSet[:,featIndex].T.tolist()[0]):\n",
    "            mat0, mat1 = binSplitDataSet(dataSet,featIndex,splitVal)\n",
    "            if np.shape(mat0)[0] < tolN or np.shape(mat1)[0] < tolN:\n",
    "#                 print('数据集很小继续下一循环')\n",
    "                continue\n",
    "            newS = errType(mat0)+errType(mat1) # 计算分支后两个子集的数据复杂度\n",
    "            if newS < bestS:\n",
    "                bestS = newS\n",
    "                bestIndex = featIndex\n",
    "                bestValue = splitVal\n",
    "    if (S - bestS) < tolS:\n",
    "#         print('误差减小不大')\n",
    "        return None,leafType(dataSet) #叶子节点来源2 # 预剪枝：切分后误差减小不大的，不分支\n",
    "    mat0, mat1 = binSplitDataSet(dataSet,bestIndex,bestValue) # 一定要使用全局最优解划分数据集\n",
    "    if np.shape(mat0)[0] < tolN or np.shape(mat1)[0] < tolN: # 这里的条件真的会被覆盖到？这里主要是为了防止循环不被执行时，子集数量过少的情况，例如8个数据上运行chooseBestSplit\n",
    "#         print('数据集很小')\n",
    "        return None,leafType(dataSet) #叶子节点来源3 # 预剪枝：切分出的数据集很小，该节点不分支\n",
    "    return bestIndex,bestValue"
   ]
  },
  {
   "cell_type": "code",
   "execution_count": 324,
   "metadata": {},
   "outputs": [],
   "source": [
    "def createTree(dataSet, leafType = regLeaf, errType = regErr, ops=(1,4)):\n",
    "    feat,val = chooseBestSplit(dataSet,leafType,errType,ops)\n",
    "    if feat == None: return val # 唯一产生叶子节点的地方\n",
    "    retTree = {}\n",
    "    retTree['spInd'] = feat\n",
    "    retTree['spVal'] = val\n",
    "    lSet,rSet = binSplitDataSet(dataSet,feat,val)\n",
    "    retTree['left'] = createTree(lSet,leafType,errType,ops)\n",
    "    retTree['right'] = createTree(rSet,leafType,errType,ops)\n",
    "    return retTree"
   ]
  },
  {
   "cell_type": "markdown",
   "metadata": {},
   "source": [
    "## 回归树"
   ]
  },
  {
   "cell_type": "code",
   "execution_count": 274,
   "metadata": {
    "collapsed": true
   },
   "outputs": [],
   "source": [
    "myData00 = loadDataSet('./ex00.txt')"
   ]
  },
  {
   "cell_type": "code",
   "execution_count": 275,
   "metadata": {},
   "outputs": [
    {
     "data": {
      "image/png": "[encoded data removed]",
      "text/plain": [
       "<matplotlib.figure.Figure at 0x2da265bb278>"
      ]
     },
     "metadata": {},
     "output_type": "display_data"
    }
   ],
   "source": [
    "fig00 = plt.figure()\n",
    "ax00 = fig00.add_subplot(111)\n",
    "ax00.scatter(myData00[:,0].T.A,myData00[:,1].T.A) \n",
    "plt.show()"
   ]
  },
  {
   "cell_type": "code",
   "execution_count": 276,
   "metadata": {},
   "outputs": [
    {
     "data": {
      "text/plain": [
       "{'left': 1.0180967672413792,\n",
       " 'right': -0.044650285714285719,\n",
       " 'spInd': 0,\n",
       " 'spVal': 0.48813}"
      ]
     },
     "execution_count": 276,
     "metadata": {},
     "output_type": "execute_result"
    }
   ],
   "source": [
    "# 2个叶子节点\n",
    "createTree(myData00)"
   ]
  },
  {
   "cell_type": "code",
   "execution_count": 277,
   "metadata": {
    "collapsed": true
   },
   "outputs": [],
   "source": [
    "myData0 = loadDataSet('./ex0.txt')"
   ]
  },
  {
   "cell_type": "code",
   "execution_count": 278,
   "metadata": {},
   "outputs": [
    {
     "data": {
      "image/png": "[encoded data removed]",
      "text/plain": [
       "<matplotlib.figure.Figure at 0x2da25cc3400>"
      ]
     },
     "metadata": {},
     "output_type": "display_data"
    }
   ],
   "source": [
    "fig0 = plt.figure()\n",
    "ax0 = fig0.add_subplot(111)\n",
    "ax0.scatter(myData0[:,1].T.A,myData0[:,2].T.A) \n",
    "plt.show()"
   ]
  },
  {
   "cell_type": "code",
   "execution_count": 279,
   "metadata": {},
   "outputs": [
    {
     "data": {
      "text/plain": [
       "{'left': {'left': {'left': 3.9871631999999999,\n",
       "   'right': 2.9836209534883724,\n",
       "   'spInd': 1,\n",
       "   'spVal': 0.797583},\n",
       "  'right': 1.980035071428571,\n",
       "  'spInd': 1,\n",
       "  'spVal': 0.582002},\n",
       " 'right': {'left': 1.0289583666666666,\n",
       "  'right': -0.023838155555555553,\n",
       "  'spInd': 1,\n",
       "  'spVal': 0.197834},\n",
       " 'spInd': 1,\n",
       " 'spVal': 0.39435}"
      ]
     },
     "execution_count": 279,
     "metadata": {},
     "output_type": "execute_result"
    }
   ],
   "source": [
    "# 5个叶子节点\n",
    "createTree(myData0)"
   ]
  },
  {
   "cell_type": "markdown",
   "metadata": {},
   "source": [
    "## 后剪枝"
   ]
  },
  {
   "cell_type": "code",
   "execution_count": 280,
   "metadata": {
    "collapsed": true
   },
   "outputs": [],
   "source": [
    "myData2 = loadDataSet('./ex2.txt')"
   ]
  },
  {
   "cell_type": "code",
   "execution_count": 281,
   "metadata": {},
   "outputs": [
    {
     "data": {
      "image/png": "[encoded data removed]",
      "text/plain": [
       "<matplotlib.figure.Figure at 0x2da25d9f860>"
      ]
     },
     "metadata": {},
     "output_type": "display_data"
    }
   ],
   "source": [
    "# 从图中可以看出：该数据集label值非常大，是ex00.txt的百倍\n",
    "fig2 = plt.figure()\n",
    "ax2 = fig2.add_subplot(111)\n",
    "ax2.scatter(myData2[:,0].T.A,myData2[:,1].T.A) \n",
    "plt.show()"
   ]
  },
  {
   "cell_type": "code",
   "execution_count": 282,
   "metadata": {},
   "outputs": [
    {
     "name": "stdout",
     "output_type": "stream",
     "text": [
      "(5, 2)\n",
      "(3, 2)\n",
      "数据集很小\n",
      "(13, 2)\n",
      "(1, 2)\n",
      "数据集很小\n",
      "(44, 2)\n",
      "(3, 2)\n",
      "数据集很小\n",
      "(1, 2)\n",
      "(7, 2)\n",
      "数据集很小\n",
      "(2, 2)\n",
      "(10, 2)\n",
      "数据集很小\n",
      "(7, 2)\n",
      "(2, 2)\n",
      "数据集很小\n",
      "(17, 2)\n",
      "(2, 2)\n",
      "数据集很小\n",
      "(3, 2)\n",
      "(6, 2)\n",
      "数据集很小\n",
      "(16, 2)\n",
      "(2, 2)\n",
      "数据集很小\n"
     ]
    },
    {
     "data": {
      "text/plain": [
       "{'left': {'left': {'left': 108.838789625,\n",
       "   'right': {'left': {'left': {'left': {'left': 87.310387500000004,\n",
       "       'right': {'left': {'left': 96.452866999999998,\n",
       "         'right': 101.33492885714286,\n",
       "         'spInd': 0,\n",
       "         'spVal': 0.910975},\n",
       "        'right': 95.275843166666661,\n",
       "        'spInd': 0,\n",
       "        'spVal': 0.85497},\n",
       "       'spInd': 0,\n",
       "       'spVal': 0.944221},\n",
       "      'right': {'left': 81.110151999999999,\n",
       "       'right': 88.784498800000009,\n",
       "       'spInd': 0,\n",
       "       'spVal': 0.811602},\n",
       "      'spInd': 0,\n",
       "      'spVal': 0.833026},\n",
       "     'right': 102.35780185714285,\n",
       "     'spInd': 0,\n",
       "     'spVal': 0.790312},\n",
       "    'right': 78.085643250000004,\n",
       "    'spInd': 0,\n",
       "    'spVal': 0.759504},\n",
       "   'spInd': 0,\n",
       "   'spVal': 0.952833},\n",
       "  'right': 107.68699163829788,\n",
       "  'spInd': 0,\n",
       "  'spVal': 0.729397},\n",
       " 'right': {'left': 7.9699461249999999,\n",
       "  'right': {'left': {'left': {'left': -12.558604833333334,\n",
       "     'right': 5.7167668333333346,\n",
       "     'spInd': 0,\n",
       "     'spVal': 0.437652},\n",
       "    'right': {'left': -19.312205000000002,\n",
       "     'right': {'left': 15.059290750000001,\n",
       "      'right': {'left': -19.994155200000002,\n",
       "       'right': {'left': {'left': -3.6664725789473671,\n",
       "         'right': 3.4496025000000001,\n",
       "         'spInd': 0,\n",
       "         'spVal': 0.202161},\n",
       "        'right': -8.8523766666666663,\n",
       "        'spInd': 0,\n",
       "        'spVal': 0.166765},\n",
       "       'spInd': 0,\n",
       "       'spVal': 0.297107},\n",
       "      'spInd': 0,\n",
       "      'spVal': 0.324274},\n",
       "     'spInd': 0,\n",
       "     'spVal': 0.335182},\n",
       "    'spInd': 0,\n",
       "    'spVal': 0.373501},\n",
       "   'right': 2.4513698888888888,\n",
       "   'spInd': 0,\n",
       "   'spVal': 0.126833},\n",
       "  'spInd': 0,\n",
       "  'spVal': 0.457563},\n",
       " 'spInd': 0,\n",
       " 'spVal': 0.499171}"
      ]
     },
     "execution_count": 282,
     "metadata": {},
     "output_type": "execute_result"
    }
   ],
   "source": [
    "# 树的结构非常依赖opt参数的设置，尤其是tolS，这里为（1,4），基本上为每一个数据设置了叶子节点\n",
    "# 严重的过拟合\n",
    "# 需要使用剪枝技术\n",
    "createTree(myData2)"
   ]
  },
  {
   "cell_type": "code",
   "execution_count": 176,
   "metadata": {},
   "outputs": [
    {
     "data": {
      "text/plain": [
       "{'left': 101.35815937735848,\n",
       " 'right': -2.6377193297872341,\n",
       " 'spInd': 0,\n",
       " 'spVal': 0.499171}"
      ]
     },
     "execution_count": 176,
     "metadata": {},
     "output_type": "execute_result"
    }
   ],
   "source": [
    "createTree(myData2,ops=(10000,4))"
   ]
  },
  {
   "cell_type": "code",
   "execution_count": 165,
   "metadata": {
    "collapsed": true
   },
   "outputs": [],
   "source": [
    "# 后剪枝技术\n",
    "# 基于交叉验证，需要将数据分为训练集、测试集\n",
    "# 原理：合并一棵树的两个叶子节点，然后计算测试集误差，对于能够降低误差的两个叶子节点做塌陷处理\n",
    "# 说白了就是将测试数据用到二叉树上，查看是否满足剪枝，遇到子节点也是树的，递归调用本身\n",
    "# 两个剪枝条件：1.该分支没有数据用到，2.在测试集上，分子合并后的误差比不合并的小\n",
    "# 原因：在建立树的过程中，只考虑了训练集拆分后误差最小，并考虑了训练集拆分前 拆分后误差的情况，\n",
    "# 但是由于过拟合问题，对于测试集，存在不确定性，需要使用交叉验证进行剪枝\n",
    "def isTree(obj):\n",
    "    return (type(obj).__name__ == 'dict')\n",
    "\n",
    "# 塌陷处理：返回树的平均值\n",
    "# 只要子树是树不是叶子节点，就调用自己\n",
    "# 子树两个都是自己叶子节点的，就求两个叶子节点的均值\n",
    "# 用该均值替代当前的树\n",
    "def getMean(tree):\n",
    "    if isTree(tree['right']):\n",
    "        tree['right'] = getMean(tree['right'])\n",
    "    if isTree(tree['left']):\n",
    "        tree['left'] = getMean(tree['left'])\n",
    "    return (tree['left']+tree['right'])/2.0\n",
    "\n",
    "def prune(tree, testData):\n",
    "    if np.shape(testData)[0] == 1: return getMean(tree) # 第一个剪枝条件：当前树没有被测试集覆盖到，递归求均值\n",
    "    \n",
    "    # A B 两个条件是互斥的，但是A条件的操作可能使得B条件达成： 对于A中所有子树，全都剪枝了\n",
    "    \n",
    "    # A：只要是任意一个分支有子树，就要先递归地剪枝，递归前需要先拆分数据集\n",
    "    if (isTree(tree['left']) or isTree(tree['right'])):\n",
    "        lSet,rSet = binSplitDataSet(testData,tree['spInd'],tree['spVal'])\n",
    "    if isTree(tree['left']): tree['left'] = prune(tree['left'],lSet) # 递归到最底层，然后逐层向上\n",
    "    if isTree(tree['right']): tree['right'] = prune(tree['right'],rSet)\n",
    "    \n",
    "    # B：当两个分支是叶子节点，才可以进行是否剪枝判断,即使两个分支都是叶子节点也需要进行拆分数据集\n",
    "    if not isTree(tree['left']) and not isTree(tree['right']):\n",
    "        lSet,rSet = binSplitDataSet(testData,tree['spInd'],tree['spVal'])\n",
    "        errorNoMerge = np.sum(np.power(lSet[:,-1] - tree['left'], 2)) + np.sum(np.power(rSet[:,-1] - tree['right'], 2)) # 两个分支的方差总和\n",
    "        treeMean = (tree['left'] + tree['right'])/2\n",
    "        errorMerge = np.sum(np.power(testData[:,-1] - treeMean, 2)) # 方差总和\n",
    "        if errorMerge < errorNoMerge:\n",
    "            print('merging')\n",
    "            return treeMean\n",
    "        else:\n",
    "            return tree # 两分支都是叶子节点，但是不能剪枝\n",
    "    else:\n",
    "        return tree # 两分支中存在非叶子节点，不能剪枝"
   ]
  },
  {
   "cell_type": "code",
   "execution_count": 169,
   "metadata": {},
   "outputs": [
    {
     "data": {
      "text/plain": [
       "{'left': {'left': {'left': {'left': {'left': 86.399636999999998,\n",
       "     'right': 98.648346000000004,\n",
       "     'spInd': 0,\n",
       "     'spVal': 0.968621},\n",
       "    'right': {'left': {'left': {'left': 112.386764,\n",
       "       'right': 123.559747,\n",
       "       'spInd': 0,\n",
       "       'spVal': 0.960398},\n",
       "      'right': 135.83701300000001,\n",
       "      'spInd': 0,\n",
       "      'spVal': 0.958512},\n",
       "     'right': 104.62626999999999,\n",
       "     'spInd': 0,\n",
       "     'spVal': 0.956951},\n",
       "    'spInd': 0,\n",
       "    'spVal': 0.965969},\n",
       "   'right': {'left': {'left': {'left': {'left': {'left': {'left': {'left': {'left': {'left': {'left': {'left': {'left': {'left': 100.649591,\n",
       "                'right': 73.520802000000003,\n",
       "                'spInd': 0,\n",
       "                'spVal': 0.952377},\n",
       "               'right': 105.75250800000001,\n",
       "               'spInd': 0,\n",
       "               'spVal': 0.949198},\n",
       "              'right': 69.318648999999994,\n",
       "              'spInd': 0,\n",
       "              'spVal': 0.948822},\n",
       "             'right': {'left': {'left': 110.03503850000001,\n",
       "               'right': {'left': 65.548417999999998,\n",
       "                'right': {'left': 115.75399400000001,\n",
       "                 'right': {'left': 91.265859999999989,\n",
       "                  'right': {'left': 112.66407100000001,\n",
       "                   'right': {'left': 87.300624999999997,\n",
       "                    'right': {'left': {'left': 100.133819,\n",
       "                      'right': 108.09493399999999,\n",
       "                      'spInd': 0,\n",
       "                      'spVal': 0.900699},\n",
       "                     'right': 98.717068749999996,\n",
       "                     'spInd': 0,\n",
       "                     'spVal': 0.892999},\n",
       "                    'spInd': 0,\n",
       "                    'spVal': 0.901421},\n",
       "                   'spInd': 0,\n",
       "                   'spVal': 0.901444},\n",
       "                  'spInd': 0,\n",
       "                  'spVal': 0.910975},\n",
       "                 'spInd': 0,\n",
       "                 'spVal': 0.925782},\n",
       "                'spInd': 0,\n",
       "                'spVal': 0.934853},\n",
       "               'spInd': 0,\n",
       "               'spVal': 0.936524},\n",
       "              'right': {'left': 82.725457000000006,\n",
       "               'right': 95.893130999999997,\n",
       "               'spInd': 0,\n",
       "               'spVal': 0.84294},\n",
       "              'spInd': 0,\n",
       "              'spVal': 0.85497},\n",
       "             'spInd': 0,\n",
       "             'spVal': 0.944221},\n",
       "            'right': 60.552307999999996,\n",
       "            'spInd': 0,\n",
       "            'spVal': 0.841625},\n",
       "           'right': {'left': 115.669032,\n",
       "            'right': 134.089674,\n",
       "            'spInd': 0,\n",
       "            'spVal': 0.838587},\n",
       "           'spInd': 0,\n",
       "           'spVal': 0.841547},\n",
       "          'right': 68.706888666666657,\n",
       "          'spInd': 0,\n",
       "          'spVal': 0.833026},\n",
       "         'right': {'left': 118.319942,\n",
       "          'right': 106.4112975,\n",
       "          'spInd': 0,\n",
       "          'spVal': 0.811602},\n",
       "         'spInd': 0,\n",
       "         'spVal': 0.815215},\n",
       "        'right': {'left': 62.877698000000002,\n",
       "         'right': {'left': 91.368472999999994,\n",
       "          'right': 76.853728000000004,\n",
       "          'spInd': 0,\n",
       "          'spVal': 0.798198},\n",
       "         'spInd': 0,\n",
       "         'spVal': 0.799873},\n",
       "        'spInd': 0,\n",
       "        'spVal': 0.806158},\n",
       "       'right': {'left': 114.4008695,\n",
       "        'right': 102.82057933333333,\n",
       "        'spInd': 0,\n",
       "        'spVal': 0.786865},\n",
       "       'spInd': 0,\n",
       "       'spVal': 0.790312},\n",
       "      'right': 64.041940999999994,\n",
       "      'spInd': 0,\n",
       "      'spVal': 0.769043},\n",
       "     'right': 115.199195,\n",
       "     'spInd': 0,\n",
       "     'spVal': 0.763328},\n",
       "    'right': {'left': {'left': 81.106762000000003,\n",
       "      'right': 63.549854000000003,\n",
       "      'spInd': 0,\n",
       "      'spVal': 0.757527},\n",
       "     'right': 83.842978500000001,\n",
       "     'spInd': 0,\n",
       "     'spVal': 0.740859},\n",
       "    'spInd': 0,\n",
       "    'spVal': 0.759504},\n",
       "   'spInd': 0,\n",
       "   'spVal': 0.952833},\n",
       "  'right': {'left': {'left': {'left': {'left': 109.91416028571429,\n",
       "      'right': {'left': 121.98060700000001,\n",
       "       'right': {'left': 115.687524,\n",
       "        'right': 112.715799,\n",
       "        'spInd': 0,\n",
       "        'spVal': 0.652462},\n",
       "       'spInd': 0,\n",
       "       'spVal': 0.661073},\n",
       "      'spInd': 0,\n",
       "      'spVal': 0.665329},\n",
       "     'right': 82.500765999999999,\n",
       "     'spInd': 0,\n",
       "     'spVal': 0.642707},\n",
       "    'right': 140.61394100000001,\n",
       "    'spInd': 0,\n",
       "    'spVal': 0.642373},\n",
       "   'right': {'left': 93.673449714285724,\n",
       "    'right': 109.20369419047617,\n",
       "    'spInd': 0,\n",
       "    'spVal': 0.613004},\n",
       "   'spInd': 0,\n",
       "   'spVal': 0.640515},\n",
       "  'spInd': 0,\n",
       "  'spVal': 0.729397},\n",
       " 'right': {'left': {'left': {'left': {'left': 14.934267666666665,\n",
       "     'right': 5.224234,\n",
       "     'spInd': 0,\n",
       "     'spVal': 0.483803},\n",
       "    'right': {'left': -9.7129250000000003,\n",
       "     'right': -23.777531,\n",
       "     'spInd': 0,\n",
       "     'spVal': 0.46568},\n",
       "    'spInd': 0,\n",
       "    'spVal': 0.467383},\n",
       "   'right': 23.611494,\n",
       "   'spInd': 0,\n",
       "   'spVal': 0.465561},\n",
       "  'right': {'left': -34.044555000000003,\n",
       "   'right': {'left': {'left': {'left': {'left': {'left': -8.2614148000000007,\n",
       "        'right': {'left': {'left': {'left': 17.484745,\n",
       "           'right': -21.594268,\n",
       "           'spInd': 0,\n",
       "           'spVal': 0.426711},\n",
       "          'right': 44.161493,\n",
       "          'spInd': 0,\n",
       "          'spVal': 0.418943},\n",
       "         'right': {'left': -26.419288999999999,\n",
       "          'right': 0.63593000000000011,\n",
       "          'spInd': 0,\n",
       "          'spVal': 0.403228},\n",
       "         'spInd': 0,\n",
       "         'spVal': 0.412516},\n",
       "        'spInd': 0,\n",
       "        'spVal': 0.437652},\n",
       "       'right': 23.197474,\n",
       "       'spInd': 0,\n",
       "       'spVal': 0.388789},\n",
       "      'right': {'left': -15.332739750000002,\n",
       "       'right': {'left': {'left': {'left': 10.8724375,\n",
       "          'right': -1.2908249999999999,\n",
       "          'spInd': 0,\n",
       "          'spVal': 0.331364},\n",
       "         'right': 39.783113,\n",
       "         'spInd': 0,\n",
       "         'spVal': 0.32889},\n",
       "        'right': {'left': -30.244727666666666,\n",
       "         'right': {'left': {'left': {'left': {'left': {'left': {'left': -1.9760672222222222,\n",
       "               'right': {'left': {'left': {'left': -8.3322070000000004,\n",
       "                  'right': -12.619035999999999,\n",
       "                  'spInd': 0,\n",
       "                  'spVal': 0.206207},\n",
       "                 'right': -22.379118999999999,\n",
       "                 'spInd': 0,\n",
       "                 'spVal': 0.203993},\n",
       "                'right': -2.6781804999999999,\n",
       "                'spInd': 0,\n",
       "                'spVal': 0.202161},\n",
       "               'spInd': 0,\n",
       "               'spVal': 0.211633},\n",
       "              'right': 9.5773855000000001,\n",
       "              'spInd': 0,\n",
       "              'spVal': 0.193282},\n",
       "             'right': -12.107972500000001,\n",
       "             'spInd': 0,\n",
       "             'spVal': 0.166765},\n",
       "            'right': 7.4470665,\n",
       "            'spInd': 0,\n",
       "            'spVal': 0.156067},\n",
       "           'right': -29.087463,\n",
       "           'spInd': 0,\n",
       "           'spVal': 0.138619},\n",
       "          'right': 22.478290999999999,\n",
       "          'spInd': 0,\n",
       "          'spVal': 0.131833},\n",
       "         'spInd': 0,\n",
       "         'spVal': 0.309133},\n",
       "        'spInd': 0,\n",
       "        'spVal': 0.324274},\n",
       "       'spInd': 0,\n",
       "       'spVal': 0.335182},\n",
       "      'spInd': 0,\n",
       "      'spVal': 0.382037},\n",
       "     'right': -39.524461000000002,\n",
       "     'spInd': 0,\n",
       "     'spVal': 0.130626},\n",
       "    'right': {'left': 22.891674999999999,\n",
       "     'right': {'left': -3.0286862000000001,\n",
       "      'right': {'left': 37.820658999999999,\n",
       "       'right': {'left': -24.132225999999999,\n",
       "        'right': {'left': {'left': 2.229873,\n",
       "          'right': 29.420068000000001,\n",
       "          'spInd': 0,\n",
       "          'spVal': 0.079632},\n",
       "         'right': {'left': -15.160836,\n",
       "          'right': {'left': {'left': {'left': 6.6955669999999996,\n",
       "             'right': -3.131497,\n",
       "             'spInd': 0,\n",
       "             'spVal': 0.055862},\n",
       "            'right': -13.731698,\n",
       "            'spInd': 0,\n",
       "            'spVal': 0.053764},\n",
       "           'right': 4.0916259999999998,\n",
       "           'spInd': 0,\n",
       "           'spVal': 0.044737},\n",
       "          'spInd': 0,\n",
       "          'spVal': 0.061219},\n",
       "         'spInd': 0,\n",
       "         'spVal': 0.068373},\n",
       "        'spInd': 0,\n",
       "        'spVal': 0.080061},\n",
       "       'spInd': 0,\n",
       "       'spVal': 0.084661},\n",
       "      'spInd': 0,\n",
       "      'spVal': 0.085111},\n",
       "     'spInd': 0,\n",
       "     'spVal': 0.124723},\n",
       "    'spInd': 0,\n",
       "    'spVal': 0.126833},\n",
       "   'spInd': 0,\n",
       "   'spVal': 0.455761},\n",
       "  'spInd': 0,\n",
       "  'spVal': 0.457563},\n",
       " 'spInd': 0,\n",
       " 'spVal': 0.499171}"
      ]
     },
     "execution_count": 169,
     "metadata": {},
     "output_type": "execute_result"
    }
   ],
   "source": [
    "myTree3 = createTree(myData2,ops=(0,1))\n",
    "myTree3"
   ]
  },
  {
   "cell_type": "code",
   "execution_count": 163,
   "metadata": {},
   "outputs": [],
   "source": [
    "myData3Test = loadDataSet('ex2test.txt')"
   ]
  },
  {
   "cell_type": "code",
   "execution_count": 170,
   "metadata": {},
   "outputs": [
    {
     "name": "stdout",
     "output_type": "stream",
     "text": [
      "merging\n",
      "merging\n",
      "merging\n",
      "merging\n",
      "merging\n",
      "merging\n",
      "merging\n",
      "merging\n",
      "merging\n",
      "merging\n",
      "merging\n",
      "merging\n"
     ]
    },
    {
     "data": {
      "text/plain": [
       "{'left': {'left': {'left': {'left': 92.523991499999994,\n",
       "    'right': {'left': {'left': {'left': 112.386764,\n",
       "       'right': 123.559747,\n",
       "       'spInd': 0,\n",
       "       'spVal': 0.960398},\n",
       "      'right': 135.83701300000001,\n",
       "      'spInd': 0,\n",
       "      'spVal': 0.958512},\n",
       "     'right': 104.62626999999999,\n",
       "     'spInd': 0,\n",
       "     'spVal': 0.956951},\n",
       "    'spInd': 0,\n",
       "    'spVal': 0.965969},\n",
       "   'right': {'left': {'left': {'left': {'left': {'left': {'left': {'left': {'left': {'left': {'left': {'left': 96.41885225,\n",
       "              'right': 69.318648999999994,\n",
       "              'spInd': 0,\n",
       "              'spVal': 0.948822},\n",
       "             'right': {'left': {'left': 110.03503850000001,\n",
       "               'right': {'left': 65.548417999999998,\n",
       "                'right': {'left': 115.75399400000001,\n",
       "                 'right': {'left': 91.265859999999989,\n",
       "                  'right': {'left': 112.66407100000001,\n",
       "                   'right': {'left': 87.300624999999997,\n",
       "                    'right': {'left': {'left': 100.133819,\n",
       "                      'right': 108.09493399999999,\n",
       "                      'spInd': 0,\n",
       "                      'spVal': 0.900699},\n",
       "                     'right': 98.717068749999996,\n",
       "                     'spInd': 0,\n",
       "                     'spVal': 0.892999},\n",
       "                    'spInd': 0,\n",
       "                    'spVal': 0.901421},\n",
       "                   'spInd': 0,\n",
       "                   'spVal': 0.901444},\n",
       "                  'spInd': 0,\n",
       "                  'spVal': 0.910975},\n",
       "                 'spInd': 0,\n",
       "                 'spVal': 0.925782},\n",
       "                'spInd': 0,\n",
       "                'spVal': 0.934853},\n",
       "               'spInd': 0,\n",
       "               'spVal': 0.936524},\n",
       "              'right': 89.309293999999994,\n",
       "              'spInd': 0,\n",
       "              'spVal': 0.85497},\n",
       "             'spInd': 0,\n",
       "             'spVal': 0.944221},\n",
       "            'right': 60.552307999999996,\n",
       "            'spInd': 0,\n",
       "            'spVal': 0.841625},\n",
       "           'right': 124.87935300000001,\n",
       "           'spInd': 0,\n",
       "           'spVal': 0.841547},\n",
       "          'right': 68.706888666666657,\n",
       "          'spInd': 0,\n",
       "          'spVal': 0.833026},\n",
       "         'right': 112.36561975000001,\n",
       "         'spInd': 0,\n",
       "         'spVal': 0.815215},\n",
       "        'right': 73.494399250000001,\n",
       "        'spInd': 0,\n",
       "        'spVal': 0.806158},\n",
       "       'right': {'left': 114.4008695,\n",
       "        'right': 102.82057933333333,\n",
       "        'spInd': 0,\n",
       "        'spVal': 0.786865},\n",
       "       'spInd': 0,\n",
       "       'spVal': 0.790312},\n",
       "      'right': 64.041940999999994,\n",
       "      'spInd': 0,\n",
       "      'spVal': 0.769043},\n",
       "     'right': 115.199195,\n",
       "     'spInd': 0,\n",
       "     'spVal': 0.763328},\n",
       "    'right': 78.085643250000004,\n",
       "    'spInd': 0,\n",
       "    'spVal': 0.759504},\n",
       "   'spInd': 0,\n",
       "   'spVal': 0.952833},\n",
       "  'right': {'left': {'left': {'left': {'left': 109.91416028571429,\n",
       "      'right': {'left': 121.98060700000001,\n",
       "       'right': {'left': 115.687524,\n",
       "        'right': 112.715799,\n",
       "        'spInd': 0,\n",
       "        'spVal': 0.652462},\n",
       "       'spInd': 0,\n",
       "       'spVal': 0.661073},\n",
       "      'spInd': 0,\n",
       "      'spVal': 0.665329},\n",
       "     'right': 82.500765999999999,\n",
       "     'spInd': 0,\n",
       "     'spVal': 0.642707},\n",
       "    'right': 140.61394100000001,\n",
       "    'spInd': 0,\n",
       "    'spVal': 0.642373},\n",
       "   'right': 101.43857195238095,\n",
       "   'spInd': 0,\n",
       "   'spVal': 0.640515},\n",
       "  'spInd': 0,\n",
       "  'spVal': 0.729397},\n",
       " 'right': {'left': {'left': {'left': {'left': 14.934267666666665,\n",
       "     'right': 5.224234,\n",
       "     'spInd': 0,\n",
       "     'spVal': 0.483803},\n",
       "    'right': {'left': -9.7129250000000003,\n",
       "     'right': -23.777531,\n",
       "     'spInd': 0,\n",
       "     'spVal': 0.46568},\n",
       "    'spInd': 0,\n",
       "    'spVal': 0.467383},\n",
       "   'right': 23.611494,\n",
       "   'spInd': 0,\n",
       "   'spVal': 0.465561},\n",
       "  'right': {'left': -34.044555000000003,\n",
       "   'right': {'left': {'left': {'left': {'left': {'left': -8.2614148000000007,\n",
       "        'right': {'left': {'left': {'left': 17.484745,\n",
       "           'right': -21.594268,\n",
       "           'spInd': 0,\n",
       "           'spVal': 0.426711},\n",
       "          'right': 44.161493,\n",
       "          'spInd': 0,\n",
       "          'spVal': 0.418943},\n",
       "         'right': {'left': -26.419288999999999,\n",
       "          'right': 0.63593000000000011,\n",
       "          'spInd': 0,\n",
       "          'spVal': 0.403228},\n",
       "         'spInd': 0,\n",
       "         'spVal': 0.412516},\n",
       "        'spInd': 0,\n",
       "        'spVal': 0.437652},\n",
       "       'right': 23.197474,\n",
       "       'spInd': 0,\n",
       "       'spVal': 0.388789},\n",
       "      'right': {'left': -15.332739750000002,\n",
       "       'right': {'left': {'left': {'left': 10.8724375,\n",
       "          'right': -1.2908249999999999,\n",
       "          'spInd': 0,\n",
       "          'spVal': 0.331364},\n",
       "         'right': 39.783113,\n",
       "         'spInd': 0,\n",
       "         'spVal': 0.32889},\n",
       "        'right': {'left': -30.244727666666666,\n",
       "         'right': {'left': {'left': {'left': {'left': {'left': -5.7644212986111105,\n",
       "              'right': 9.5773855000000001,\n",
       "              'spInd': 0,\n",
       "              'spVal': 0.193282},\n",
       "             'right': -12.107972500000001,\n",
       "             'spInd': 0,\n",
       "             'spVal': 0.166765},\n",
       "            'right': 7.4470665,\n",
       "            'spInd': 0,\n",
       "            'spVal': 0.156067},\n",
       "           'right': -29.087463,\n",
       "           'spInd': 0,\n",
       "           'spVal': 0.138619},\n",
       "          'right': 22.478290999999999,\n",
       "          'spInd': 0,\n",
       "          'spVal': 0.131833},\n",
       "         'spInd': 0,\n",
       "         'spVal': 0.309133},\n",
       "        'spInd': 0,\n",
       "        'spVal': 0.324274},\n",
       "       'spInd': 0,\n",
       "       'spVal': 0.335182},\n",
       "      'spInd': 0,\n",
       "      'spVal': 0.382037},\n",
       "     'right': -39.524461000000002,\n",
       "     'spInd': 0,\n",
       "     'spVal': 0.130626},\n",
       "    'right': {'left': 22.891674999999999,\n",
       "     'right': {'left': -3.0286862000000001,\n",
       "      'right': {'left': 37.820658999999999,\n",
       "       'right': {'left': -24.132225999999999,\n",
       "        'right': {'left': 15.824970500000001,\n",
       "         'right': {'left': -15.160836,\n",
       "          'right': {'left': {'left': {'left': 6.6955669999999996,\n",
       "             'right': -3.131497,\n",
       "             'spInd': 0,\n",
       "             'spVal': 0.055862},\n",
       "            'right': -13.731698,\n",
       "            'spInd': 0,\n",
       "            'spVal': 0.053764},\n",
       "           'right': 4.0916259999999998,\n",
       "           'spInd': 0,\n",
       "           'spVal': 0.044737},\n",
       "          'spInd': 0,\n",
       "          'spVal': 0.061219},\n",
       "         'spInd': 0,\n",
       "         'spVal': 0.068373},\n",
       "        'spInd': 0,\n",
       "        'spVal': 0.080061},\n",
       "       'spInd': 0,\n",
       "       'spVal': 0.084661},\n",
       "      'spInd': 0,\n",
       "      'spVal': 0.085111},\n",
       "     'spInd': 0,\n",
       "     'spVal': 0.124723},\n",
       "    'spInd': 0,\n",
       "    'spVal': 0.126833},\n",
       "   'spInd': 0,\n",
       "   'spVal': 0.455761},\n",
       "  'spInd': 0,\n",
       "  'spVal': 0.457563},\n",
       " 'spInd': 0,\n",
       " 'spVal': 0.499171}"
      ]
     },
     "execution_count": 170,
     "metadata": {},
     "output_type": "execute_result"
    }
   ],
   "source": [
    "# 虽然大量分支被剪掉了，但是还是没能剪到两个分支\n",
    "# 后剪枝不如预剪枝效果好\n",
    "# 因此最好把两种剪枝技术都应用\n",
    "prune(myTree3,myData3Test)"
   ]
  },
  {
   "cell_type": "markdown",
   "metadata": {},
   "source": [
    "## 模型树"
   ]
  },
  {
   "cell_type": "code",
   "execution_count": 200,
   "metadata": {
    "collapsed": true
   },
   "outputs": [],
   "source": [
    "myData4 = loadDataSet('exp2.txt')"
   ]
  },
  {
   "cell_type": "code",
   "execution_count": 187,
   "metadata": {},
   "outputs": [
    {
     "data": {
      "image/png": "[encoded data removed]",
      "text/plain": [
       "<matplotlib.figure.Figure at 0x2da2632f668>"
      ]
     },
     "metadata": {},
     "output_type": "display_data"
    }
   ],
   "source": [
    "fig4 = plt.figure()\n",
    "ax4 = fig4.add_subplot(111)\n",
    "ax4.scatter(myData4[:,0].T.A,myData4[:,1].T.A) \n",
    "plt.show()"
   ]
  },
  {
   "cell_type": "code",
   "execution_count": 227,
   "metadata": {},
   "outputs": [
    {
     "data": {
      "text/plain": [
       "{'left': matrix([[  1.69855694e-03],\n",
       "         [  1.19647739e+01]]), 'right': matrix([[ 3.46877936],\n",
       "         [ 1.18521743]]), 'spInd': 0, 'spVal': 0.285477}"
      ]
     },
     "execution_count": 227,
     "metadata": {},
     "output_type": "execute_result"
    }
   ],
   "source": [
    "# y = 3.5 + 1,0*x\n",
    "# y = 0 + 12*x\n",
    "createTree(myData4,leafType = modelLeaf,errType= modelErr,ops = (1,8))"
   ]
  },
  {
   "cell_type": "markdown",
   "metadata": {},
   "source": [
    "## 预测"
   ]
  },
  {
   "cell_type": "code",
   "execution_count": 333,
   "metadata": {
    "collapsed": true
   },
   "outputs": [],
   "source": [
    "def regTreeEval(model,inData):\n",
    "    return model # 常数的分段函数\n",
    "def modelTreeEval(model,inData):\n",
    "    n = np.shape(inData)[1]\n",
    "    X = np.mat(np.ones((1,n+1))) # 因为使用的是测试集，所以没有label列\n",
    "    X[:,1:n+1] = inData\n",
    "    return X*model"
   ]
  },
  {
   "cell_type": "code",
   "execution_count": 334,
   "metadata": {
    "collapsed": true
   },
   "outputs": [],
   "source": [
    "def treeForeCast(tree,inData,modelEval=regTreeEval):\n",
    "    if not isTree(tree):return modelEval(tree,inData) # 或者是常数，或者是模型系数\n",
    "    if inData[tree['spInd']] > tree['spVal']:\n",
    "        if isTree(tree['left']):\n",
    "            return treeForeCast(tree['left'],inData,modelEval)\n",
    "        else:\n",
    "            return modelEval(tree['left'],inData)\n",
    "    else:\n",
    "        if isTree(tree['right']):\n",
    "            return treeForeCast(tree['right'],inData,modelEval)\n",
    "        else:\n",
    "            return modelEval(tree['right'],inData)"
   ]
  },
  {
   "cell_type": "code",
   "execution_count": 335,
   "metadata": {
    "collapsed": true
   },
   "outputs": [],
   "source": [
    "def createForeCast(tree,testData,modelEval = regTreeEval):\n",
    "    m = len(testData)\n",
    "    yHat = np.mat(np.zeros((m,1)))\n",
    "    for i in range(m):\n",
    "        yHat[i,0] = treeForeCast(tree,np.mat(testData[i]),modelEval)\n",
    "    return yHat"
   ]
  },
  {
   "cell_type": "code",
   "execution_count": 232,
   "metadata": {
    "collapsed": true
   },
   "outputs": [],
   "source": [
    "trainMat = loadDataSet('bikeSpeedVsIq_train.txt')\n",
    "testMat = loadDataSet('bikeSpeedVsIq_test.txt')"
   ]
  },
  {
   "cell_type": "code",
   "execution_count": 233,
   "metadata": {},
   "outputs": [
    {
     "data": {
      "image/png": "[encoded data removed]",
      "text/plain": [
       "<matplotlib.figure.Figure at 0x2da2626f6a0>"
      ]
     },
     "metadata": {},
     "output_type": "display_data"
    }
   ],
   "source": [
    "fig5 = plt.figure()\n",
    "ax5 = fig5.add_subplot(111)\n",
    "ax5.scatter(trainMat[:,0].T.A,trainMat[:,1].T.A) \n",
    "plt.show()"
   ]
  },
  {
   "cell_type": "code",
   "execution_count": 352,
   "metadata": {},
   "outputs": [
    {
     "data": {
      "text/plain": [
       "0.96408523182221495"
      ]
     },
     "execution_count": 352,
     "metadata": {},
     "output_type": "execute_result"
    }
   ],
   "source": [
    "myTreeBike =createTree(trainMat,ops=(1,20))\n",
    "yHat = createForeCast(myTreeBike,testMat[:,0])\n",
    "np.corrcoef(yHat,testMat[:,1],rowvar = 0)[0,1]"
   ]
  },
  {
   "cell_type": "code",
   "execution_count": 353,
   "metadata": {},
   "outputs": [
    {
     "data": {
      "text/plain": [
       "0.97243264682678021"
      ]
     },
     "execution_count": 353,
     "metadata": {},
     "output_type": "execute_result"
    }
   ],
   "source": [
    "myTreeBike =createTree(trainMat,ops=(1,10))\n",
    "yHat = createForeCast(myTreeBike,testMat[:,0])\n",
    "np.corrcoef(yHat,testMat[:,1],rowvar = 0)[0,1]"
   ]
  },
  {
   "cell_type": "code",
   "execution_count": 354,
   "metadata": {},
   "outputs": [
    {
     "data": {
      "text/plain": [
       "0.97853793369246755"
      ]
     },
     "execution_count": 354,
     "metadata": {},
     "output_type": "execute_result"
    }
   ],
   "source": [
    "myTreeBike =createTree(trainMat,ops=(1,6))\n",
    "yHat = createForeCast(myTreeBike,testMat[:,0])\n",
    "np.corrcoef(yHat,testMat[:,1],rowvar = 0)[0,1]"
   ]
  },
  {
   "cell_type": "code",
   "execution_count": 350,
   "metadata": {},
   "outputs": [
    {
     "data": {
      "image/png": "[encoded data removed]",
      "text/plain": [
       "<matplotlib.figure.Figure at 0x2da38c67f60>"
      ]
     },
     "metadata": {},
     "output_type": "display_data"
    }
   ],
   "source": [
    "fig6 = plt.figure()\n",
    "ax6 = fig6.add_subplot(111)\n",
    "ax6.scatter(testMat[:,0].T.A,yHat.T.A) \n",
    "plt.show()"
   ]
  },
  {
   "cell_type": "code",
   "execution_count": 355,
   "metadata": {},
   "outputs": [
    {
     "data": {
      "text/plain": [
       "0.97604121913806285"
      ]
     },
     "execution_count": 355,
     "metadata": {},
     "output_type": "execute_result"
    }
   ],
   "source": [
    "myTreeBike2 =createTree(trainMat,leafType=modelLeaf,errType=modelErr,ops=(1,20))\n",
    "yHat2 = createForeCast(myTreeBike2,testMat[:,0],modelEval= modelTreeEval)\n",
    "np.corrcoef(yHat2,testMat[:,1],rowvar = 0)[0,1]"
   ]
  },
  {
   "cell_type": "code",
   "execution_count": 359,
   "metadata": {},
   "outputs": [
    {
     "data": {
      "text/plain": [
       "0.9783086799216234"
      ]
     },
     "execution_count": 359,
     "metadata": {},
     "output_type": "execute_result"
    }
   ],
   "source": [
    "myTreeBike2 =createTree(trainMat,leafType=modelLeaf,errType=modelErr,ops=(1,17)) # ops = （1,17） 保证逆矩阵存在的最小值\n",
    "yHat2 = createForeCast(myTreeBike2,testMat[:,0],modelEval= modelTreeEval)\n",
    "np.corrcoef(yHat2,testMat[:,1],rowvar = 0)[0,1]"
   ]
  },
  {
   "cell_type": "code",
   "execution_count": 360,
   "metadata": {},
   "outputs": [
    {
     "data": {
      "image/png": "[encoded data removed]",
      "text/plain": [
       "<matplotlib.figure.Figure at 0x2da257964e0>"
      ]
     },
     "metadata": {},
     "output_type": "display_data"
    }
   ],
   "source": [
    "fig7 = plt.figure()\n",
    "ax7 = fig7.add_subplot(111)\n",
    "ax7.scatter(testMat[:,0].T.A,yHat2.T.A) \n",
    "plt.show()"
   ]
  },
  {
   "cell_type": "code",
   "execution_count": null,
   "metadata": {
    "collapsed": true
   },
   "outputs": [],
   "source": []
  },
  {
   "cell_type": "code",
   "execution_count": null,
   "metadata": {
    "collapsed": true
   },
   "outputs": [],
   "source": []
  },
  {
   "cell_type": "code",
   "execution_count": null,
   "metadata": {
    "collapsed": true
   },
   "outputs": [],
   "source": []
  },
  {
   "cell_type": "code",
   "execution_count": 2,
   "metadata": {},
   "outputs": [],
   "source": [
    "import tkinter as tk"
   ]
  },
  {
   "cell_type": "code",
   "execution_count": 3,
   "metadata": {
    "collapsed": true
   },
   "outputs": [],
   "source": [
    "root = tk.Tk()\n",
    "mylabel = tk.Label(root,text='first')\n",
    "mylabel.grid()\n",
    "root.mainloop()"
   ]
  }
 ],
 "metadata": {
  "kernelspec": {
   "display_name": "Python 3.6 root",
   "language": "python",
   "name": "python3"
  },
  "language_info": {
   "codemirror_mode": {
    "name": "ipython",
    "version": 3
   },
   "file_extension": ".py",
   "mimetype": "text/x-python",
   "name": "python",
   "nbconvert_exporter": "python",
   "pygments_lexer": "ipython3",
   "version": "3.6.3"
  }
 },
 "nbformat": 4,
 "nbformat_minor": 2
}
