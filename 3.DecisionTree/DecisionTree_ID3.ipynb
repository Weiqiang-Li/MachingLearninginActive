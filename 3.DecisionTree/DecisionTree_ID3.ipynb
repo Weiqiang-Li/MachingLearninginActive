{
 "cells": [
  {
   "cell_type": "code",
   "execution_count": 2,
   "metadata": {
    "collapsed": true
   },
   "outputs": [],
   "source": [
    "import numpy as np\n",
    "import matplotlib\n",
    "import matplotlib.pyplot as plt\n",
    "import operator\n",
    "import pickle"
   ]
  },
  {
   "cell_type": "code",
   "execution_count": 3,
   "metadata": {},
   "outputs": [
    {
     "name": "stdout",
     "output_type": "stream",
     "text": [
      "Help on module pickle:\n",
      "\n",
      "NAME\n",
      "    pickle - Create portable serialized representations of Python objects.\n",
      "\n",
      "DESCRIPTION\n",
      "    See module copyreg for a mechanism for registering custom picklers.\n",
      "    See module pickletools source for extensive comments.\n",
      "    \n",
      "    Classes:\n",
      "    \n",
      "        Pickler\n",
      "        Unpickler\n",
      "    \n",
      "    Functions:\n",
      "    \n",
      "        dump(object, file)\n",
      "        dumps(object) -> string\n",
      "        load(file) -> object\n",
      "        loads(string) -> object\n",
      "    \n",
      "    Misc variables:\n",
      "    \n",
      "        __version__\n",
      "        format_version\n",
      "        compatible_formats\n",
      "\n",
      "CLASSES\n",
      "    builtins.Exception(builtins.BaseException)\n",
      "        _pickle.PickleError\n",
      "            _pickle.PicklingError\n",
      "            _pickle.UnpicklingError\n",
      "    builtins.object\n",
      "        _pickle.Pickler\n",
      "        _pickle.Unpickler\n",
      "    \n",
      "    class PickleError(builtins.Exception)\n",
      "     |  Common base class for all non-exit exceptions.\n",
      "     |  \n",
      "     |  Method resolution order:\n",
      "     |      PickleError\n",
      "     |      builtins.Exception\n",
      "     |      builtins.BaseException\n",
      "     |      builtins.object\n",
      "     |  \n",
      "     |  Data descriptors defined here:\n",
      "     |  \n",
      "     |  __weakref__\n",
      "     |      list of weak references to the object (if defined)\n",
      "     |  \n",
      "     |  ----------------------------------------------------------------------\n",
      "     |  Methods inherited from builtins.Exception:\n",
      "     |  \n",
      "     |  __init__(self, /, *args, **kwargs)\n",
      "     |      Initialize self.  See help(type(self)) for accurate signature.\n",
      "     |  \n",
      "     |  __new__(*args, **kwargs) from builtins.type\n",
      "     |      Create and return a new object.  See help(type) for accurate signature.\n",
      "     |  \n",
      "     |  ----------------------------------------------------------------------\n",
      "     |  Methods inherited from builtins.BaseException:\n",
      "     |  \n",
      "     |  __delattr__(self, name, /)\n",
      "     |      Implement delattr(self, name).\n",
      "     |  \n",
      "     |  __getattribute__(self, name, /)\n",
      "     |      Return getattr(self, name).\n",
      "     |  \n",
      "     |  __reduce__(...)\n",
      "     |      helper for pickle\n",
      "     |  \n",
      "     |  __repr__(self, /)\n",
      "     |      Return repr(self).\n",
      "     |  \n",
      "     |  __setattr__(self, name, value, /)\n",
      "     |      Implement setattr(self, name, value).\n",
      "     |  \n",
      "     |  __setstate__(...)\n",
      "     |  \n",
      "     |  __str__(self, /)\n",
      "     |      Return str(self).\n",
      "     |  \n",
      "     |  with_traceback(...)\n",
      "     |      Exception.with_traceback(tb) --\n",
      "     |      set self.__traceback__ to tb and return self.\n",
      "     |  \n",
      "     |  ----------------------------------------------------------------------\n",
      "     |  Data descriptors inherited from builtins.BaseException:\n",
      "     |  \n",
      "     |  __cause__\n",
      "     |      exception cause\n",
      "     |  \n",
      "     |  __context__\n",
      "     |      exception context\n",
      "     |  \n",
      "     |  __dict__\n",
      "     |  \n",
      "     |  __suppress_context__\n",
      "     |  \n",
      "     |  __traceback__\n",
      "     |  \n",
      "     |  args\n",
      "    \n",
      "    class Pickler(builtins.object)\n",
      "     |  This takes a binary file for writing a pickle data stream.\n",
      "     |  \n",
      "     |  The optional *protocol* argument tells the pickler to use the given\n",
      "     |  protocol; supported protocols are 0, 1, 2, 3 and 4.  The default\n",
      "     |  protocol is 3; a backward-incompatible protocol designed for Python 3.\n",
      "     |  \n",
      "     |  Specifying a negative protocol version selects the highest protocol\n",
      "     |  version supported.  The higher the protocol used, the more recent the\n",
      "     |  version of Python needed to read the pickle produced.\n",
      "     |  \n",
      "     |  The *file* argument must have a write() method that accepts a single\n",
      "     |  bytes argument. It can thus be a file object opened for binary\n",
      "     |  writing, an io.BytesIO instance, or any other custom object that meets\n",
      "     |  this interface.\n",
      "     |  \n",
      "     |  If *fix_imports* is True and protocol is less than 3, pickle will try\n",
      "     |  to map the new Python 3 names to the old module names used in Python\n",
      "     |  2, so that the pickle data stream is readable with Python 2.\n",
      "     |  \n",
      "     |  Methods defined here:\n",
      "     |  \n",
      "     |  __init__(self, /, *args, **kwargs)\n",
      "     |      Initialize self.  See help(type(self)) for accurate signature.\n",
      "     |  \n",
      "     |  __new__(*args, **kwargs) from builtins.type\n",
      "     |      Create and return a new object.  See help(type) for accurate signature.\n",
      "     |  \n",
      "     |  __sizeof__(self, /)\n",
      "     |      Returns size in memory, in bytes.\n",
      "     |  \n",
      "     |  clear_memo(self, /)\n",
      "     |      Clears the pickler's \"memo\".\n",
      "     |      \n",
      "     |      The memo is the data structure that remembers which objects the\n",
      "     |      pickler has already seen, so that shared or recursive objects are\n",
      "     |      pickled by reference and not by value.  This method is useful when\n",
      "     |      re-using picklers.\n",
      "     |  \n",
      "     |  dump(self, obj, /)\n",
      "     |      Write a pickled representation of the given object to the open file.\n",
      "     |  \n",
      "     |  ----------------------------------------------------------------------\n",
      "     |  Data descriptors defined here:\n",
      "     |  \n",
      "     |  bin\n",
      "     |  \n",
      "     |  dispatch_table\n",
      "     |  \n",
      "     |  fast\n",
      "     |  \n",
      "     |  memo\n",
      "     |  \n",
      "     |  persistent_id\n",
      "    \n",
      "    class PicklingError(PickleError)\n",
      "     |  Common base class for all non-exit exceptions.\n",
      "     |  \n",
      "     |  Method resolution order:\n",
      "     |      PicklingError\n",
      "     |      PickleError\n",
      "     |      builtins.Exception\n",
      "     |      builtins.BaseException\n",
      "     |      builtins.object\n",
      "     |  \n",
      "     |  Data descriptors inherited from PickleError:\n",
      "     |  \n",
      "     |  __weakref__\n",
      "     |      list of weak references to the object (if defined)\n",
      "     |  \n",
      "     |  ----------------------------------------------------------------------\n",
      "     |  Methods inherited from builtins.Exception:\n",
      "     |  \n",
      "     |  __init__(self, /, *args, **kwargs)\n",
      "     |      Initialize self.  See help(type(self)) for accurate signature.\n",
      "     |  \n",
      "     |  __new__(*args, **kwargs) from builtins.type\n",
      "     |      Create and return a new object.  See help(type) for accurate signature.\n",
      "     |  \n",
      "     |  ----------------------------------------------------------------------\n",
      "     |  Methods inherited from builtins.BaseException:\n",
      "     |  \n",
      "     |  __delattr__(self, name, /)\n",
      "     |      Implement delattr(self, name).\n",
      "     |  \n",
      "     |  __getattribute__(self, name, /)\n",
      "     |      Return getattr(self, name).\n",
      "     |  \n",
      "     |  __reduce__(...)\n",
      "     |      helper for pickle\n",
      "     |  \n",
      "     |  __repr__(self, /)\n",
      "     |      Return repr(self).\n",
      "     |  \n",
      "     |  __setattr__(self, name, value, /)\n",
      "     |      Implement setattr(self, name, value).\n",
      "     |  \n",
      "     |  __setstate__(...)\n",
      "     |  \n",
      "     |  __str__(self, /)\n",
      "     |      Return str(self).\n",
      "     |  \n",
      "     |  with_traceback(...)\n",
      "     |      Exception.with_traceback(tb) --\n",
      "     |      set self.__traceback__ to tb and return self.\n",
      "     |  \n",
      "     |  ----------------------------------------------------------------------\n",
      "     |  Data descriptors inherited from builtins.BaseException:\n",
      "     |  \n",
      "     |  __cause__\n",
      "     |      exception cause\n",
      "     |  \n",
      "     |  __context__\n",
      "     |      exception context\n",
      "     |  \n",
      "     |  __dict__\n",
      "     |  \n",
      "     |  __suppress_context__\n",
      "     |  \n",
      "     |  __traceback__\n",
      "     |  \n",
      "     |  args\n",
      "    \n",
      "    class Unpickler(builtins.object)\n",
      "     |  This takes a binary file for reading a pickle data stream.\n",
      "     |  \n",
      "     |  The protocol version of the pickle is detected automatically, so no\n",
      "     |  protocol argument is needed.  Bytes past the pickled object's\n",
      "     |  representation are ignored.\n",
      "     |  \n",
      "     |  The argument *file* must have two methods, a read() method that takes\n",
      "     |  an integer argument, and a readline() method that requires no\n",
      "     |  arguments.  Both methods should return bytes.  Thus *file* can be a\n",
      "     |  binary file object opened for reading, an io.BytesIO object, or any\n",
      "     |  other custom object that meets this interface.\n",
      "     |  \n",
      "     |  Optional keyword arguments are *fix_imports*, *encoding* and *errors*,\n",
      "     |  which are used to control compatibility support for pickle stream\n",
      "     |  generated by Python 2.  If *fix_imports* is True, pickle will try to\n",
      "     |  map the old Python 2 names to the new names used in Python 3.  The\n",
      "     |  *encoding* and *errors* tell pickle how to decode 8-bit string\n",
      "     |  instances pickled by Python 2; these default to 'ASCII' and 'strict',\n",
      "     |  respectively.  The *encoding* can be 'bytes' to read these 8-bit\n",
      "     |  string instances as bytes objects.\n",
      "     |  \n",
      "     |  Methods defined here:\n",
      "     |  \n",
      "     |  __init__(self, /, *args, **kwargs)\n",
      "     |      Initialize self.  See help(type(self)) for accurate signature.\n",
      "     |  \n",
      "     |  __new__(*args, **kwargs) from builtins.type\n",
      "     |      Create and return a new object.  See help(type) for accurate signature.\n",
      "     |  \n",
      "     |  __sizeof__(self, /)\n",
      "     |      Returns size in memory, in bytes.\n",
      "     |  \n",
      "     |  find_class(self, module_name, global_name, /)\n",
      "     |      Return an object from a specified module.\n",
      "     |      \n",
      "     |      If necessary, the module will be imported. Subclasses may override\n",
      "     |      this method (e.g. to restrict unpickling of arbitrary classes and\n",
      "     |      functions).\n",
      "     |      \n",
      "     |      This method is called whenever a class or a function object is\n",
      "     |      needed.  Both arguments passed are str objects.\n",
      "     |  \n",
      "     |  load(self, /)\n",
      "     |      Load a pickle.\n",
      "     |      \n",
      "     |      Read a pickled object representation from the open file object given\n",
      "     |      in the constructor, and return the reconstituted object hierarchy\n",
      "     |      specified therein.\n",
      "     |  \n",
      "     |  ----------------------------------------------------------------------\n",
      "     |  Data descriptors defined here:\n",
      "     |  \n",
      "     |  memo\n",
      "     |  \n",
      "     |  persistent_load\n",
      "    \n",
      "    class UnpicklingError(PickleError)\n",
      "     |  Common base class for all non-exit exceptions.\n",
      "     |  \n",
      "     |  Method resolution order:\n",
      "     |      UnpicklingError\n",
      "     |      PickleError\n",
      "     |      builtins.Exception\n",
      "     |      builtins.BaseException\n",
      "     |      builtins.object\n",
      "     |  \n",
      "     |  Data descriptors inherited from PickleError:\n",
      "     |  \n",
      "     |  __weakref__\n",
      "     |      list of weak references to the object (if defined)\n",
      "     |  \n",
      "     |  ----------------------------------------------------------------------\n",
      "     |  Methods inherited from builtins.Exception:\n",
      "     |  \n",
      "     |  __init__(self, /, *args, **kwargs)\n",
      "     |      Initialize self.  See help(type(self)) for accurate signature.\n",
      "     |  \n",
      "     |  __new__(*args, **kwargs) from builtins.type\n",
      "     |      Create and return a new object.  See help(type) for accurate signature.\n",
      "     |  \n",
      "     |  ----------------------------------------------------------------------\n",
      "     |  Methods inherited from builtins.BaseException:\n",
      "     |  \n",
      "     |  __delattr__(self, name, /)\n",
      "     |      Implement delattr(self, name).\n",
      "     |  \n",
      "     |  __getattribute__(self, name, /)\n",
      "     |      Return getattr(self, name).\n",
      "     |  \n",
      "     |  __reduce__(...)\n",
      "     |      helper for pickle\n",
      "     |  \n",
      "     |  __repr__(self, /)\n",
      "     |      Return repr(self).\n",
      "     |  \n",
      "     |  __setattr__(self, name, value, /)\n",
      "     |      Implement setattr(self, name, value).\n",
      "     |  \n",
      "     |  __setstate__(...)\n",
      "     |  \n",
      "     |  __str__(self, /)\n",
      "     |      Return str(self).\n",
      "     |  \n",
      "     |  with_traceback(...)\n",
      "     |      Exception.with_traceback(tb) --\n",
      "     |      set self.__traceback__ to tb and return self.\n",
      "     |  \n",
      "     |  ----------------------------------------------------------------------\n",
      "     |  Data descriptors inherited from builtins.BaseException:\n",
      "     |  \n",
      "     |  __cause__\n",
      "     |      exception cause\n",
      "     |  \n",
      "     |  __context__\n",
      "     |      exception context\n",
      "     |  \n",
      "     |  __dict__\n",
      "     |  \n",
      "     |  __suppress_context__\n",
      "     |  \n",
      "     |  __traceback__\n",
      "     |  \n",
      "     |  args\n",
      "\n",
      "FUNCTIONS\n",
      "    dump(obj, file, protocol=None, *, fix_imports=True)\n",
      "        Write a pickled representation of obj to the open file object file.\n",
      "        \n",
      "        This is equivalent to ``Pickler(file, protocol).dump(obj)``, but may\n",
      "        be more efficient.\n",
      "        \n",
      "        The optional *protocol* argument tells the pickler to use the given\n",
      "        protocol supported protocols are 0, 1, 2, 3 and 4.  The default\n",
      "        protocol is 3; a backward-incompatible protocol designed for Python 3.\n",
      "        \n",
      "        Specifying a negative protocol version selects the highest protocol\n",
      "        version supported.  The higher the protocol used, the more recent the\n",
      "        version of Python needed to read the pickle produced.\n",
      "        \n",
      "        The *file* argument must have a write() method that accepts a single\n",
      "        bytes argument.  It can thus be a file object opened for binary\n",
      "        writing, an io.BytesIO instance, or any other custom object that meets\n",
      "        this interface.\n",
      "        \n",
      "        If *fix_imports* is True and protocol is less than 3, pickle will try\n",
      "        to map the new Python 3 names to the old module names used in Python\n",
      "        2, so that the pickle data stream is readable with Python 2.\n",
      "    \n",
      "    dumps(obj, protocol=None, *, fix_imports=True)\n",
      "        Return the pickled representation of the object as a bytes object.\n",
      "        \n",
      "        The optional *protocol* argument tells the pickler to use the given\n",
      "        protocol; supported protocols are 0, 1, 2, 3 and 4.  The default\n",
      "        protocol is 3; a backward-incompatible protocol designed for Python 3.\n",
      "        \n",
      "        Specifying a negative protocol version selects the highest protocol\n",
      "        version supported.  The higher the protocol used, the more recent the\n",
      "        version of Python needed to read the pickle produced.\n",
      "        \n",
      "        If *fix_imports* is True and *protocol* is less than 3, pickle will\n",
      "        try to map the new Python 3 names to the old module names used in\n",
      "        Python 2, so that the pickle data stream is readable with Python 2.\n",
      "    \n",
      "    load(file, *, fix_imports=True, encoding='ASCII', errors='strict')\n",
      "        Read and return an object from the pickle data stored in a file.\n",
      "        \n",
      "        This is equivalent to ``Unpickler(file).load()``, but may be more\n",
      "        efficient.\n",
      "        \n",
      "        The protocol version of the pickle is detected automatically, so no\n",
      "        protocol argument is needed.  Bytes past the pickled object's\n",
      "        representation are ignored.\n",
      "        \n",
      "        The argument *file* must have two methods, a read() method that takes\n",
      "        an integer argument, and a readline() method that requires no\n",
      "        arguments.  Both methods should return bytes.  Thus *file* can be a\n",
      "        binary file object opened for reading, an io.BytesIO object, or any\n",
      "        other custom object that meets this interface.\n",
      "        \n",
      "        Optional keyword arguments are *fix_imports*, *encoding* and *errors*,\n",
      "        which are used to control compatibility support for pickle stream\n",
      "        generated by Python 2.  If *fix_imports* is True, pickle will try to\n",
      "        map the old Python 2 names to the new names used in Python 3.  The\n",
      "        *encoding* and *errors* tell pickle how to decode 8-bit string\n",
      "        instances pickled by Python 2; these default to 'ASCII' and 'strict',\n",
      "        respectively.  The *encoding* can be 'bytes' to read these 8-bit\n",
      "        string instances as bytes objects.\n",
      "    \n",
      "    loads(data, *, fix_imports=True, encoding='ASCII', errors='strict')\n",
      "        Read and return an object from the given pickle data.\n",
      "        \n",
      "        The protocol version of the pickle is detected automatically, so no\n",
      "        protocol argument is needed.  Bytes past the pickled object's\n",
      "        representation are ignored.\n",
      "        \n",
      "        Optional keyword arguments are *fix_imports*, *encoding* and *errors*,\n",
      "        which are used to control compatibility support for pickle stream\n",
      "        generated by Python 2.  If *fix_imports* is True, pickle will try to\n",
      "        map the old Python 2 names to the new names used in Python 3.  The\n",
      "        *encoding* and *errors* tell pickle how to decode 8-bit string\n",
      "        instances pickled by Python 2; these default to 'ASCII' and 'strict',\n",
      "        respectively.  The *encoding* can be 'bytes' to read these 8-bit\n",
      "        string instances as bytes objects.\n",
      "\n",
      "DATA\n",
      "    ADDITEMS = b'\\x90'\n",
      "    APPEND = b'a'\n",
      "    APPENDS = b'e'\n",
      "    BINBYTES = b'B'\n",
      "    BINBYTES8 = b'\\x8e'\n",
      "    BINFLOAT = b'G'\n",
      "    BINGET = b'h'\n",
      "    BININT = b'J'\n",
      "    BININT1 = b'K'\n",
      "    BININT2 = b'M'\n",
      "    BINPERSID = b'Q'\n",
      "    BINPUT = b'q'\n",
      "    BINSTRING = b'T'\n",
      "    BINUNICODE = b'X'\n",
      "    BINUNICODE8 = b'\\x8d'\n",
      "    BUILD = b'b'\n",
      "    DEFAULT_PROTOCOL = 3\n",
      "    DICT = b'd'\n",
      "    DUP = b'2'\n",
      "    EMPTY_DICT = b'}'\n",
      "    EMPTY_LIST = b']'\n",
      "    EMPTY_SET = b'\\x8f'\n",
      "    EMPTY_TUPLE = b')'\n",
      "    EXT1 = b'\\x82'\n",
      "    EXT2 = b'\\x83'\n",
      "    EXT4 = b'\\x84'\n",
      "    FALSE = b'I00\\n'\n",
      "    FLOAT = b'F'\n",
      "    FRAME = b'\\x95'\n",
      "    FROZENSET = b'\\x91'\n",
      "    GET = b'g'\n",
      "    GLOBAL = b'c'\n",
      "    HIGHEST_PROTOCOL = 4\n",
      "    INST = b'i'\n",
      "    INT = b'I'\n",
      "    LIST = b'l'\n",
      "    LONG = b'L'\n",
      "    LONG1 = b'\\x8a'\n",
      "    LONG4 = b'\\x8b'\n",
      "    LONG_BINGET = b'j'\n",
      "    LONG_BINPUT = b'r'\n",
      "    MARK = b'('\n",
      "    MEMOIZE = b'\\x94'\n",
      "    NEWFALSE = b'\\x89'\n",
      "    NEWOBJ = b'\\x81'\n",
      "    NEWOBJ_EX = b'\\x92'\n",
      "    NEWTRUE = b'\\x88'\n",
      "    NONE = b'N'\n",
      "    OBJ = b'o'\n",
      "    PERSID = b'P'\n",
      "    POP = b'0'\n",
      "    POP_MARK = b'1'\n",
      "    PROTO = b'\\x80'\n",
      "    PUT = b'p'\n",
      "    REDUCE = b'R'\n",
      "    SETITEM = b's'\n",
      "    SETITEMS = b'u'\n",
      "    SHORT_BINBYTES = b'C'\n",
      "    SHORT_BINSTRING = b'U'\n",
      "    SHORT_BINUNICODE = b'\\x8c'\n",
      "    STACK_GLOBAL = b'\\x93'\n",
      "    STOP = b'.'\n",
      "    STRING = b'S'\n",
      "    TRUE = b'I01\\n'\n",
      "    TUPLE = b't'\n",
      "    TUPLE1 = b'\\x85'\n",
      "    TUPLE2 = b'\\x86'\n",
      "    TUPLE3 = b'\\x87'\n",
      "    UNICODE = b'V'\n",
      "    __all__ = ['PickleError', 'PicklingError', 'UnpicklingError', 'Pickler...\n",
      "\n",
      "FILE\n",
      "    c:\\programdata\\anaconda3\\lib\\pickle.py\n",
      "\n",
      "\n"
     ]
    }
   ],
   "source": [
    "help(pickle)"
   ]
  },
  {
   "cell_type": "code",
   "execution_count": 4,
   "metadata": {
    "collapsed": true
   },
   "outputs": [],
   "source": [
    "# cumput entropy of each features of the given dataset\n",
    "from math import log\n",
    "def calcShannonEnt(dataSet):\n",
    "    numEntries = len(dataSet)\n",
    "    labelCounts = {} # 这里一定有新的写法\n",
    "    for featVect in dataSet: # 统计分类的频数\n",
    "        currentLabel = featVect[-1]\n",
    "        if currentLabel not in labelCounts.keys():\n",
    "            labelCounts[currentLabel] = 0\n",
    "        labelCounts[currentLabel] += 1\n",
    "    shannonEnt = 0.0\n",
    "    for key in labelCounts:\n",
    "        prob = float(labelCounts[key])/numEntries # 每一类的概率\n",
    "        shannonEnt -= prob*log(prob,2) # 香农熵，-log(prob,2) 为信息量，乘以对应类别的概率即为熵\n",
    "    return shannonEnt"
   ]
  },
  {
   "cell_type": "code",
   "execution_count": 5,
   "metadata": {},
   "outputs": [
    {
     "data": {
      "text/plain": [
       "0.9709505944546686"
      ]
     },
     "execution_count": 5,
     "metadata": {},
     "output_type": "execute_result"
    }
   ],
   "source": [
    "def createDataSet():\n",
    "    dataSet = [[1,1,'yes'],\n",
    "        [1,1,'yes'],\n",
    "        [1,0,'no'],\n",
    "        [0,1,'no'],\n",
    "        [0,1,'no']]\n",
    "    labels = ['no surfacing','flippers']\n",
    "    return dataSet,labels\n",
    "myData,labels = createDataSet()\n",
    "calcShannonEnt(myData)"
   ]
  },
  {
   "cell_type": "code",
   "execution_count": 6,
   "metadata": {},
   "outputs": [],
   "source": [
    "# myData[0][-1]='maybe' # 分类的类别增加，熵增大\n",
    "# print(myData)\n",
    "# calcShannonEnt(myData)"
   ]
  },
  {
   "cell_type": "code",
   "execution_count": 7,
   "metadata": {
    "collapsed": true
   },
   "outputs": [],
   "source": [
    "def splitDataSet(dataSet,axis,value):\n",
    "    retDataSet = []\n",
    "    for featVec in dataSet:\n",
    "        if featVec[axis] == value:\n",
    "#             print(featVec[:axis])\n",
    "#             reducedFeatVec = featVec[:axis]\n",
    "#             print(featVec[axis+1:])\n",
    "#             reducedFeatVec.extend(featVec[axis+1:])\n",
    "            reducedFeatVec = featVec[:axis]+featVec[axis+1:] \n",
    "            # 排除被选择的特征，是为了方便计算子集的熵，该熵不能包含用于选择的特征\n",
    "            # 被选择出来的特征取值要与value相同，体现挑选过程，方便计算（该特征相同取值）子集的熵\n",
    "            retDataSet.append(reducedFeatVec)\n",
    "    return retDataSet"
   ]
  },
  {
   "cell_type": "code",
   "execution_count": 8,
   "metadata": {},
   "outputs": [
    {
     "data": {
      "text/plain": [
       "[[1, 'yes'], [1, 'yes'], [0, 'no'], [0, 'no']]"
      ]
     },
     "execution_count": 8,
     "metadata": {},
     "output_type": "execute_result"
    }
   ],
   "source": [
    "splitDataSet(myData,1,1)"
   ]
  },
  {
   "cell_type": "code",
   "execution_count": 9,
   "metadata": {
    "collapsed": true
   },
   "outputs": [],
   "source": [
    "# 计算最优划分特征，对于给定数据集，仅考虑计算一层特征的拆分信息增益\n",
    "def chooseBestFeatureToSplit(dataSet):\n",
    "    baseEntropy = calcShannonEnt(dataSet) # 计算原始香农熵\n",
    "    numFeatures = len(dataSet[0])-1 \n",
    "    bestInfoGain = 0.0 # 最大信息增益（也即香农熵减少度，数据有序增加度）\n",
    "    bestFeature = -1 # 最优划分特征的索引\n",
    "    for i in range(numFeatures): #遍历每个用于划分的特征\n",
    "        featList = [example[i] for example in dataSet]\n",
    "        uniqueVals = set(featList)\n",
    "        newEntropy = 0.0\n",
    "        for value in uniqueVals: # 根据每个特征遍历每一个取值，计算该划分方法的新信息熵\n",
    "            subDataSet = splitDataSet(dataSet,i,value)\n",
    "            prob = len(subDataSet)/len(dataSet)\n",
    "            newEntropy += prob*calcShannonEnt(subDataSet) # 注意概率的引入\n",
    "        infoGain = baseEntropy - newEntropy # 信息增益\n",
    "        if infoGain > bestInfoGain:  # 挑出信息增益最大的即为最优划分特征\n",
    "            bestInfoGain = infoGain\n",
    "            bestFeature = i\n",
    "    return bestFeature"
   ]
  },
  {
   "cell_type": "code",
   "execution_count": 10,
   "metadata": {},
   "outputs": [
    {
     "data": {
      "text/plain": [
       "0"
      ]
     },
     "execution_count": 10,
     "metadata": {},
     "output_type": "execute_result"
    }
   ],
   "source": [
    "chooseBestFeatureToSplit(myData)"
   ]
  },
  {
   "cell_type": "code",
   "execution_count": 11,
   "metadata": {
    "collapsed": true
   },
   "outputs": [],
   "source": [
    "# 终止条件：\n",
    "# 用光所有特征\n",
    "# 子集为相同类型\n",
    "# 但存在用光所有特征但子集类型不一致的情况：投票，多数表决\n",
    "def majorityCnt(classList):\n",
    "    classCount = {}\n",
    "    for vote in classList:\n",
    "        if vote not in classCount.keys():\n",
    "            classCount[vote] = 0\n",
    "        classCount[vote] += 1\n",
    "    sortedClassCount = sorted(classCount.items(),key=operator.itemgetter(1),reverse=True)\n",
    "    return sortedClassCount[0][0]"
   ]
  },
  {
   "cell_type": "code",
   "execution_count": 12,
   "metadata": {
    "collapsed": true
   },
   "outputs": [],
   "source": [
    "def createTree(dataSet,labels):\n",
    "    classList = [example[-1] for example in dataSet] # 分类结果列表\n",
    "    if classList.count(classList[0]) == len(classList): # 子集为同一类，直接返回类型 # 这里同时也处理了子集元素只有一个的情况，防止继续分解子集\n",
    "        return classList[0]\n",
    "    if len(dataSet[0]) == 1: # 特征用完，但子集不是同一类，需要投票\n",
    "        return majorityCnt(classList)\n",
    "    bestFeature = chooseBestFeatureToSplit(dataSet) # 获取划分依据的最优特征\n",
    "    bestFeatureLabel = labels[bestFeature] # 算法本省不强制，但是为了直观理解数据含义\n",
    "    myTree = {bestFeatureLabel:{}} # 构造树，嵌套\n",
    "    featValues = [example[bestFeature] for example in dataSet] # 该特征下所有取值子集\n",
    "    uniqueValues = set(featValues)\n",
    "    subLabels = labels[:bestFeature]+labels[bestFeature+1:] # 必须删除已用label，否则label顺序出现混乱\n",
    "    for value in uniqueValues:\n",
    "        myTree[bestFeatureLabel][value] = createTree(splitDataSet(dataSet,bestFeature,value),subLabels) # 对于划分出的子集，继续创建树\n",
    "    return myTree"
   ]
  },
  {
   "cell_type": "code",
   "execution_count": 13,
   "metadata": {},
   "outputs": [
    {
     "data": {
      "text/plain": [
       "{'no surfacing': {0: 'no', 1: {'flippers': {0: 'no', 1: 'yes'}}}}"
      ]
     },
     "execution_count": 13,
     "metadata": {},
     "output_type": "execute_result"
    }
   ],
   "source": [
    "myTree = createTree(myData,labels)\n",
    "myTree"
   ]
  },
  {
   "cell_type": "code",
   "execution_count": 14,
   "metadata": {
    "collapsed": true
   },
   "outputs": [],
   "source": [
    "def classify(inputTree,featLabels,testVect):\n",
    "    firstStr = list(inputTree.keys())[0] # 每个树的入口都是一个label\n",
    "    secondDict = inputTree[firstStr] # 该label的值为一个字典,是一个内层字典\n",
    "    featIndex = featLabels.index(firstStr) # 将label转化为特征标签，目的是为了获取索引，以便从testVect取出特征的值\n",
    "    for key in secondDict.keys():\n",
    "        if testVect[featIndex] == key: # 对于分支的判断\n",
    "            if type(secondDict[key]).__name__ == 'dict': # 这里说明还有子树，可以递归调用了\n",
    "                classLabel = classify(secondDict[key],featLabels,testVect)\n",
    "            else:\n",
    "                classLabel = secondDict[key]\n",
    "    return classLabel"
   ]
  },
  {
   "cell_type": "code",
   "execution_count": 15,
   "metadata": {},
   "outputs": [
    {
     "data": {
      "text/plain": [
       "'no'"
      ]
     },
     "execution_count": 15,
     "metadata": {},
     "output_type": "execute_result"
    }
   ],
   "source": [
    "classify(myTree,labels,[1,0])"
   ]
  },
  {
   "cell_type": "code",
   "execution_count": 16,
   "metadata": {},
   "outputs": [
    {
     "data": {
      "text/plain": [
       "'yes'"
      ]
     },
     "execution_count": 16,
     "metadata": {},
     "output_type": "execute_result"
    }
   ],
   "source": [
    "classify(myTree,labels,[1,1])"
   ]
  },
  {
   "cell_type": "markdown",
   "metadata": {},
   "source": [
    "# 图形化展示"
   ]
  },
  {
   "cell_type": "code",
   "execution_count": 17,
   "metadata": {},
   "outputs": [
    {
     "data": {
      "image/png": "[encoded data removed]",
      "text/plain": [
       "<matplotlib.figure.Figure at 0x27160ebc2b0>"
      ]
     },
     "metadata": {},
     "output_type": "display_data"
    }
   ],
   "source": [
    "decisionNode = dict(boxstyle='sawtooth',fc='0.8')\n",
    "leafNode = dict(boxstyle='round4',fc='0.8')\n",
    "arrow_args = dict(arrowstyle='<-')\n",
    "def plotNode1(nodeTxt,centerPt,parentPt,nodeType):\n",
    "    createPlot1.ax1.annotate(nodeTxt,xy=parentPt,xycoords='axes fraction',xytext=centerPt,textcoords='axes fraction',va='center',ha='center',bbox=nodeType,arrowprops=arrow_args)\n",
    "    \n",
    "def createPlot1():\n",
    "    plt.rc('font', family='SimHei', size=13) # 用于指定显示中文的字体，否则出现方块\n",
    "    fig = plt.figure(1,facecolor='white')\n",
    "    fig.clf()\n",
    "    createPlot1.ax1 = plt.subplot(111,frameon=False)\n",
    "    plotNode1('决策节点',(0.5,0.1),(0.1,0.5),decisionNode)\n",
    "    plotNode1('叶子节点',(0.8,0.1),(0.3,0.8),leafNode)\n",
    "    plt.show()\n",
    "createPlot1()"
   ]
  },
  {
   "cell_type": "code",
   "execution_count": 18,
   "metadata": {
    "collapsed": true
   },
   "outputs": [],
   "source": [
    "# 确定横轴长度：获取叶子节点数\n",
    "def getNumLeafs(myTree):\n",
    "    numLeafs = 0\n",
    "#     firstStr = list(myTree.keys())[0]\n",
    "#     secondDict = myTree[firstStr]\n",
    "    secondDict = list(myTree.values())[0]\n",
    "    for key in secondDict.keys():\n",
    "        if type(secondDict[key] ).__name__ == 'dict':\n",
    "            numLeafs += getNumLeafs(secondDict[key])\n",
    "        else:\n",
    "            numLeafs += 1 # 树分支遇到非字典就加1\n",
    "    return numLeafs\n",
    "\n",
    "# 确定纵轴高度：获取树层数\n",
    "def getTreeDepth(myTree):\n",
    "    maxDepth = 0\n",
    "    firstStr = list(myTree.keys())[0]\n",
    "    secondDict = myTree[firstStr]\n",
    "    for key in secondDict.keys():\n",
    "        if type(secondDict[key]).__name__ == 'dict':\n",
    "            # 遇到子字典，也即遇到子树，层数总是要增加的\n",
    "            thisDepth = 1+ getTreeDepth(secondDict[key])\n",
    "        else:\n",
    "            thisDepth = 1 # 树分支遇到非字典层数就为1\n",
    "        #保留每个分支的最大深度\n",
    "        if maxDepth < thisDepth:maxDepth = thisDepth\n",
    "    return maxDepth"
   ]
  },
  {
   "cell_type": "code",
   "execution_count": 19,
   "metadata": {
    "collapsed": true
   },
   "outputs": [],
   "source": [
    "def retrieveTree(i):\n",
    "    listOfTree = [\n",
    "        {'no surfacing': {0: 'no', 1: {'flippers': {0: 'no', 1: 'yes'}}}},\n",
    "        {'no surfacing': {0: 'no', 1: {'flippers': {0: {'head':{0:'no',1:'yes'}}, 1: 'no'}}}}\n",
    "    ]\n",
    "    return listOfTree[i]"
   ]
  },
  {
   "cell_type": "code",
   "execution_count": 20,
   "metadata": {},
   "outputs": [
    {
     "data": {
      "text/plain": [
       "4"
      ]
     },
     "execution_count": 20,
     "metadata": {},
     "output_type": "execute_result"
    }
   ],
   "source": [
    "getNumLeafs(retrieveTree(1))"
   ]
  },
  {
   "cell_type": "code",
   "execution_count": 21,
   "metadata": {},
   "outputs": [
    {
     "data": {
      "text/plain": [
       "3"
      ]
     },
     "execution_count": 21,
     "metadata": {},
     "output_type": "execute_result"
    }
   ],
   "source": [
    "getTreeDepth(retrieveTree(1))"
   ]
  },
  {
   "cell_type": "code",
   "execution_count": 22,
   "metadata": {
    "collapsed": true
   },
   "outputs": [],
   "source": [
    "decisionNode = dict(boxstyle='sawtooth',fc='0.8')\n",
    "leafNode = dict(boxstyle='round4',fc='0.8')\n",
    "arrow_args = dict(arrowstyle='<-')\n",
    "plt.rc('font', family='SimHei', size=13) # 用于指定显示中文的字体，否则出现方块\n",
    "def plotNode(nodeTxt,centerPt,parentPt,nodeType):\n",
    "    createPlot.ax1.annotate(nodeTxt,xy=parentPt,xycoords='axes fraction',xytext=centerPt,textcoords='axes fraction',va='center',ha='center',bbox=nodeType,arrowprops=arrow_args)\n",
    "    \n",
    "# 绘制分支上的标签\n",
    "def plotMidText(cntrPt,parentPt,textString):\n",
    "    xMid = (parentPt[0] - cntrPt[0])/2.0 + cntrPt[0]\n",
    "    yMid = (parentPt[1] - cntrPt[1])/2.0 + cntrPt[1]\n",
    "    createPlot.ax1.text(xMid,yMid,textString)\n",
    "\n",
    "# 绘制树\n",
    "# 重要参考 https://www.cnblogs.com/fantasy01/p/4595902.html\n",
    "def plotTree(myTree,parentPt,nodeText):\n",
    "    numLeafs = getNumLeafs(myTree)\n",
    "    depth = getTreeDepth(myTree)\n",
    "    print(\"当前树的叶子数 %d\"%numLeafs)\n",
    "    print(\"当前树的深度 %d\"%depth)\n",
    "    firstStr = list(myTree.keys())[0]\n",
    "    print(\"当前树的label %s\"%firstStr)\n",
    "    secondDict = myTree[firstStr]\n",
    "    print(\"上一绘制的起始位置 %f\"%plotTree.xOff)\n",
    "    cntrPt = (plotTree.xOff + (1.0 + numLeafs)/2.0/plotTree.totalW, plotTree.yOff)  \n",
    "#     cntrPt = (plotTree.xOff + 1.0/2/plotTree.totalW + numLeafs/2/plotTree.totalW, plotTree.yOff)\n",
    "    # numLeafs个数决定了这一层树所有叶子节点所占宽度，当前选择节点位于该宽度的中间，numLeafs/2.0/plotTree\n",
    "    # numLeafs)/2.0/plotTree 代表了整个子树的宽度的一半，不论这一子树的大小，numLeafs)/plotTree 总是能将这一子树放得下，\n",
    "    # 1.0/2.0/plotTree.totalW 代表了横向上向右移动半个单位\n",
    "    print(\"父节点位置 %s\"%str(parentPt))\n",
    "    print(\"子节点位置 %s\"%str(cntrPt))\n",
    "    plotMidText(cntrPt,parentPt,nodeText)\n",
    "    plotNode(firstStr,cntrPt,parentPt,decisionNode) # 绘制树判断节点\n",
    "#     plotNode('no surfacing',(0.5, 1.0),(0.5, 1.0),decisionNode)\n",
    "    plotTree.yOff = plotTree.yOff - 1.0/plotTree.totalD  # 纵向上高度下降一个子树高度\n",
    "    # 深度优先策略\n",
    "    print(\"绘制完选择框更新纵坐标 %f\"%plotTree.yOff)\n",
    "    for key in secondDict.keys():\n",
    "        if type(secondDict[key]).__name__ == 'dict':\n",
    "            plotTree(secondDict[key],cntrPt,str(key))\n",
    "        else:\n",
    "            plotTree.xOff = plotTree.xOff + 1.0/plotTree.totalW # 为了方便这里更新叶子节点横坐标，所以将起始绘图位置设置左偏半个位置\n",
    "            print(\"更新绘制横坐标，准备绘制叶子节点%f\"%plotTree.xOff)\n",
    "            plotNode(secondDict[key],(plotTree.xOff,plotTree.yOff),cntrPt,leafNode)\n",
    "            plotMidText((plotTree.xOff,plotTree.yOff),cntrPt,str(key))\n",
    "    plotTree.yOff = plotTree.yOff +1.0/plotTree.totalD\n",
    "    # 深度优先策略，在绘制完该深度所有子节点的时候需要返回之前的位置\n",
    "    print(\"当前树绘制完成， 更新纵坐标 %f\"%plotTree.yOff)\n",
    "    \n",
    "\n",
    "\n",
    "# 创建绘图区域，递归调用plotTree()\n",
    "def createPlot(inTree):\n",
    "    fig = plt.figure(1,facecolor='white')\n",
    "    fig.clf()\n",
    "#     axprops = dict(xticks=[],yticks=[]) # 用于去掉坐标轴编号\n",
    "#     createPlot.ax1 = plt.subplot(111,frameon=False,**axprops) # 参数解包语法\n",
    "    createPlot.ax1 = plt.subplot(111,frameon=False)\n",
    "    plotTree.totalW = getNumLeafs(inTree)\n",
    "    plotTree.totalD = getTreeDepth(inTree)\n",
    "    plotTree.xOff = -0.5/plotTree.totalW # 起始位置左移半个单位宽度，以后leaf间距+1即可\n",
    "    plotTree.yOff = 1.0\n",
    "    plotTree(inTree,(0.5,1.0),'')\n",
    "    plt.show()\n",
    "    "
   ]
  },
  {
   "attachments": {
    "231850335499658.png": {
     "image/png": "[encoded data removed]"
    }
   },
   "cell_type": "markdown",
   "metadata": {},
   "source": [
    "首先由于整个画布根据叶子节点数和深度进行平均切分，并且x轴的总长度为1,即如同下图：\n",
    "\n",
    "![231850335499658.png](attachment:231850335499658.png)\n",
    "\n",
    "1、其中方形为非叶子节点的位置，@是叶子节点的位置，因此每份即上图的一个表格的长度应该为1/plotTree.totalW,但是叶子节点的位置应该为@所在位置，则在开始的时候plotTree.xOff的赋值为-0.5/plotTree.totalW,即意为开始x位置为第一个表格左边的半个表格距离位置，这样作的好处为：在以后确定@位置时候可以直接加整数倍的1/plotTree.totalW,\n",
    "\n",
    "2、对于plotTree函数中的红色部分即如下：\n",
    "\n",
    "cntrPt = (plotTree.xOff + (1.0 + float(numLeafs))/2.0/plotTree.totalW, plotTree.yOff)\n",
    "plotTree.xOff即为最近绘制的一个叶子节点的x坐标，在确定当前节点位置时每次只需确定当前节点有几个叶子节点，因此其叶子节点所占的总距离就确定了即为float(numLeafs)/plotTree.totalW*1(因为总长度为1)，因此当前节点的位置即为其所有叶子节点所占距离的中间即一半为float(numLeafs)/2.0/plotTree.totalW*1，这样保证了节点位于其叶子节点的中间，但是由于开始plotTree.xOff赋值并非从0开始，而是左移了半个表格，因此还需加上半个表格距离即为1/2/plotTree.totalW*1,则加起来便为(1.0 + float(numLeafs))/2.0/plotTree.totalW*1，因此偏移量确定，则x位置变为plotTree.xOff + (1.0 + float(numLeafs))/2.0/plotTree.totalW\n",
    "\n",
    "3、对于plotTree函数参数赋值为(0.5, 1.0)\n",
    "\n",
    "因为开始的根节点并不用划线，因此父节点和当前节点的位置需要重合，利用2中的确定当前节点的位置便为(0.5, 1.0)\n",
    "\n",
    "总结：利用这样的逐渐增加x的坐标，以及逐渐降低y的坐标能能够很好的将树的叶子节点数和深度考虑进去，因此图的逻辑比例就很好的确定了，这样不用去关心输出图形的大小，一旦图形发生变化，函数会重新绘制，但是假如利用像素为单位来绘制图形，这样缩放图形就比较有难度了"
   ]
  },
  {
   "cell_type": "code",
   "execution_count": 23,
   "metadata": {},
   "outputs": [
    {
     "name": "stdout",
     "output_type": "stream",
     "text": [
      "当前树的叶子数 4\n",
      "当前树的深度 3\n",
      "当前树的label no surfacing\n",
      "上一绘制的起始位置 -0.125000\n",
      "父节点位置 (0.5, 1.0)\n",
      "子节点位置 (0.5, 1.0)\n",
      "绘制完选择框更新纵坐标 0.666667\n",
      "更新绘制横坐标，准备绘制叶子节点0.125000\n",
      "当前树的叶子数 3\n",
      "当前树的深度 2\n",
      "当前树的label flippers\n",
      "上一绘制的起始位置 0.125000\n",
      "父节点位置 (0.5, 1.0)\n",
      "子节点位置 (0.625, 0.6666666666666667)\n",
      "绘制完选择框更新纵坐标 0.333333\n",
      "当前树的叶子数 2\n",
      "当前树的深度 1\n",
      "当前树的label head\n",
      "上一绘制的起始位置 0.125000\n",
      "父节点位置 (0.625, 0.6666666666666667)\n",
      "子节点位置 (0.5, 0.3333333333333334)\n",
      "绘制完选择框更新纵坐标 0.000000\n",
      "更新绘制横坐标，准备绘制叶子节点0.375000\n",
      "更新绘制横坐标，准备绘制叶子节点0.625000\n",
      "当前树绘制完成， 更新纵坐标 0.333333\n",
      "更新绘制横坐标，准备绘制叶子节点0.875000\n",
      "当前树绘制完成， 更新纵坐标 0.666667\n",
      "当前树绘制完成， 更新纵坐标 1.000000\n"
     ]
    },
    {
     "data": {
      "image/png": "[encoded data removed]",
      "text/plain": [
       "<matplotlib.figure.Figure at 0x27160ebc4a8>"
      ]
     },
     "metadata": {},
     "output_type": "display_data"
    }
   ],
   "source": [
    "myTree = retrieveTree(1)\n",
    "myTree['no surfacing'][3] = 'maybe'\n",
    "createPlot( retrieveTree(1))"
   ]
  },
  {
   "cell_type": "code",
   "execution_count": 24,
   "metadata": {},
   "outputs": [
    {
     "data": {
      "text/plain": [
       "{'no surfacing': {0: 'no',\n",
       "  1: {'flippers': {0: {'head': {0: 'no', 1: 'yes'}}, 1: 'no'}},\n",
       "  3: 'maybe'}}"
      ]
     },
     "execution_count": 24,
     "metadata": {},
     "output_type": "execute_result"
    }
   ],
   "source": [
    "myTree"
   ]
  },
  {
   "cell_type": "markdown",
   "metadata": {},
   "source": [
    "# 序列化，使用时加载，学习时间长，预测速度快"
   ]
  },
  {
   "cell_type": "code",
   "execution_count": 25,
   "metadata": {
    "collapsed": true
   },
   "outputs": [],
   "source": [
    "# 序列化对象\n",
    "def storeTree(inputTree,filename):\n",
    "    with open(filename,'wb') as fw:\n",
    "        pickle.dump(inputTree,fw)\n",
    "def grabTree(filename):\n",
    "    with open(filename,'rb') as fr:\n",
    "        return pickle.load(fr)"
   ]
  },
  {
   "cell_type": "code",
   "execution_count": 26,
   "metadata": {
    "collapsed": true
   },
   "outputs": [],
   "source": [
    "storeTree(myTree,'DecisionTree.txt')"
   ]
  },
  {
   "cell_type": "code",
   "execution_count": 27,
   "metadata": {},
   "outputs": [
    {
     "data": {
      "text/plain": [
       "{'no surfacing': {0: 'no',\n",
       "  1: {'flippers': {0: {'head': {0: 'no', 1: 'yes'}}, 1: 'no'}},\n",
       "  3: 'maybe'}}"
      ]
     },
     "execution_count": 27,
     "metadata": {},
     "output_type": "execute_result"
    }
   ],
   "source": [
    "loadTree = grabTree('DecisionTree.txt')\n",
    "loadTree"
   ]
  },
  {
   "cell_type": "code",
   "execution_count": 28,
   "metadata": {
    "scrolled": true
   },
   "outputs": [
    {
     "name": "stdout",
     "output_type": "stream",
     "text": [
      "当前树的叶子数 9\n",
      "当前树的深度 4\n",
      "当前树的label tearRate\n",
      "上一绘制的起始位置 -0.055556\n",
      "父节点位置 (0.5, 1.0)\n",
      "子节点位置 (0.5, 1.0)\n",
      "绘制完选择框更新纵坐标 0.750000\n",
      "更新绘制横坐标，准备绘制叶子节点0.055556\n",
      "当前树的叶子数 8\n",
      "当前树的深度 3\n",
      "当前树的label astigmatic\n",
      "上一绘制的起始位置 0.055556\n",
      "父节点位置 (0.5, 1.0)\n",
      "子节点位置 (0.5555555555555556, 0.75)\n",
      "绘制完选择框更新纵坐标 0.500000\n",
      "当前树的叶子数 4\n",
      "当前树的深度 2\n",
      "当前树的label age\n",
      "上一绘制的起始位置 0.055556\n",
      "父节点位置 (0.5555555555555556, 0.75)\n",
      "子节点位置 (0.33333333333333337, 0.5)\n",
      "绘制完选择框更新纵坐标 0.250000\n",
      "更新绘制横坐标，准备绘制叶子节点0.166667\n",
      "更新绘制横坐标，准备绘制叶子节点0.277778\n",
      "当前树的叶子数 2\n",
      "当前树的深度 1\n",
      "当前树的label prescript\n",
      "上一绘制的起始位置 0.277778\n",
      "父节点位置 (0.33333333333333337, 0.5)\n",
      "子节点位置 (0.4444444444444444, 0.25)\n",
      "绘制完选择框更新纵坐标 0.000000\n",
      "更新绘制横坐标，准备绘制叶子节点0.388889\n",
      "更新绘制横坐标，准备绘制叶子节点0.500000\n",
      "当前树绘制完成， 更新纵坐标 0.250000\n",
      "当前树绘制完成， 更新纵坐标 0.500000\n",
      "当前树的叶子数 4\n",
      "当前树的深度 2\n",
      "当前树的label prescript\n",
      "上一绘制的起始位置 0.500000\n",
      "父节点位置 (0.5555555555555556, 0.75)\n",
      "子节点位置 (0.7777777777777778, 0.5)\n",
      "绘制完选择框更新纵坐标 0.250000\n",
      "当前树的叶子数 3\n",
      "当前树的深度 1\n",
      "当前树的label age\n",
      "上一绘制的起始位置 0.500000\n",
      "父节点位置 (0.7777777777777778, 0.5)\n",
      "子节点位置 (0.7222222222222222, 0.25)\n",
      "绘制完选择框更新纵坐标 0.000000\n",
      "更新绘制横坐标，准备绘制叶子节点0.611111\n",
      "更新绘制横坐标，准备绘制叶子节点0.722222\n",
      "更新绘制横坐标，准备绘制叶子节点0.833333\n",
      "当前树绘制完成， 更新纵坐标 0.250000\n",
      "更新绘制横坐标，准备绘制叶子节点0.944444\n",
      "当前树绘制完成， 更新纵坐标 0.500000\n",
      "当前树绘制完成， 更新纵坐标 0.750000\n",
      "当前树绘制完成， 更新纵坐标 1.000000\n"
     ]
    },
    {
     "data": {
      "image/png": "[encoded data removed]",
      "text/plain": [
       "<matplotlib.figure.Figure at 0x27160963470>"
      ]
     },
     "metadata": {},
     "output_type": "display_data"
    }
   ],
   "source": [
    "with open('./lenses.txt','r') as fr:\n",
    "    lenses = [line.strip().split('\\t')for line in fr.readlines()]\n",
    "lensesLabels = ['age','prescript','astigmatic','tearRate']\n",
    "lensesTree = createTree(lenses,lensesLabels)\n",
    "createPlot(lensesTree)"
   ]
  },
  {
   "cell_type": "code",
   "execution_count": null,
   "metadata": {
    "collapsed": true
   },
   "outputs": [],
   "source": []
  }
 ],
 "metadata": {
  "kernelspec": {
   "display_name": "Python 3.6 root",
   "language": "python",
   "name": "python3"
  },
  "language_info": {
   "codemirror_mode": {
    "name": "ipython",
    "version": 3
   },
   "file_extension": ".py",
   "mimetype": "text/x-python",
   "name": "python",
   "nbconvert_exporter": "python",
   "pygments_lexer": "ipython3",
   "version": "3.6.3"
  }
 },
 "nbformat": 4,
 "nbformat_minor": 2
}
