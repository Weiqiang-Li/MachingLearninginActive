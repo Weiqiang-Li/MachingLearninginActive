{
 "cells": [
  {
   "cell_type": "code",
   "execution_count": 1,
   "metadata": {
    "collapsed": true
   },
   "outputs": [],
   "source": [
    "import numpy as np\n",
    "import matplotlib.pyplot as plt"
   ]
  },
  {
   "cell_type": "code",
   "execution_count": 17,
   "metadata": {},
   "outputs": [],
   "source": [
    "def loadDataSet(fileName):\n",
    "    numFeat = len(open(fileName).readline().split('\\t'))\n",
    "    dataMat = []\n",
    "    labelMat = []\n",
    "    fr = open(fileName)\n",
    "    for line in fr.readlines():\n",
    "        lineArr = []\n",
    "        curLine = line.strip().split('\\t')\n",
    "        for i in range(numFeat-1):\n",
    "            lineArr.append(float(curLine[i]))\n",
    "        dataMat.append(lineArr)\n",
    "        labelMat.append(float((curLine[-1])))\n",
    "    return dataMat,labelMat"
   ]
  },
  {
   "cell_type": "code",
   "execution_count": 5,
   "metadata": {
    "collapsed": true
   },
   "outputs": [],
   "source": [
    "# 定义decision stump 单层决策树\n",
    "def stumpClasify(dataMatrix,dimen,threshVal,threshIneq):\n",
    "    retArray = np.ones((np.shape(dataMatrix)[0],1)) # 返回划分结果矩阵\n",
    "    # 对应数值数据有两种分类方向\n",
    "    # 对于标称数据有等于和不等两种情况（决策树中的情况）\n",
    "    if threshIneq == 'lt':\n",
    "        retArray[dataMatrix[:,dimen] <= threshVal] = -1.0 # 平行于坐标轴的直线为阈值，分类，小于阈值的为-1.0 ，\n",
    "    else:\n",
    "        retArray[dataMatrix[:,dimen] > threshVal] = -1.0 # 大于阈值的为 -1.0 两种分类方向\n",
    "    return retArray"
   ]
  },
  {
   "cell_type": "code",
   "execution_count": 6,
   "metadata": {
    "collapsed": true
   },
   "outputs": [],
   "source": [
    "# 寻找最优单层树\n",
    "def buildStump(dataArr,classLabels,D):\n",
    "    dataMatrix = np.mat(dataArr)\n",
    "    labelMatrix = np.mat(classLabels).T\n",
    "    m,n = np.shape(dataMatrix)\n",
    "    numSteps = 10.0 # 步数，决定可能的取值情况\n",
    "    bestStump = {}  # 存储最优单层树\n",
    "    bestClassEst = np.mat(np.zeros((m,1))) # 存储最优单层树的分类误差\n",
    "    minError = np.inf # 初始化误差为无穷大\n",
    "    for i in range(n): # 对于每个维度上的特征\n",
    "        rangeMin = dataMatrix[:,i].min()\n",
    "        rangeMax = dataMatrix[:,i].max()\n",
    "        stepSize = (rangeMax - rangeMin)/numSteps\n",
    "        for j in range(-1,int(numSteps)+1): # 对于每一个可能取值的步长，这里额外处理取值范围之外的点\n",
    "            for inequal in ['lt','gt']: # 对于该取值下的两种不同分类方向\n",
    "                threshVal = rangeMin + j*stepSize # 计算此时的阈值\n",
    "                predictedVals = stumpClasify(dataMatrix,i,threshVal,inequal)\n",
    "                errArr = np.mat(np.ones((m,1))) # 创建一个错误分类项挑选矩阵\n",
    "                errArr[predictedVals == labelMatrix] = 0 # 挑选\n",
    "                # 这里是评估在相同权重D情况下，最优的单层决策树的评估值，\n",
    "                #也是用于更新alpha以及D的错误率\n",
    "                weightedError = D.T*errArr # 计算加权错误？？？ \n",
    "#                 print(\"split: dim %d, thresh %.2f, thresh inequal: %s, the weighted error is %.3f\"%(i,threshVal,inequal,weightedError))\n",
    "                if weightedError < minError:\n",
    "                    minError = weightedError\n",
    "                    bestClassEst = predictedVals\n",
    "                    bestStump['dim'] = i\n",
    "                    bestStump['thresh'] = threshVal\n",
    "                    bestStump['ineq'] = inequal\n",
    "    return bestStump,minError,bestClassEst"
   ]
  },
  {
   "cell_type": "code",
   "execution_count": 42,
   "metadata": {
    "collapsed": true
   },
   "outputs": [],
   "source": [
    " # adaBoost过程\n",
    "def adaBoostTrainDS(dataArr,classLabels,numIt = 40):\n",
    "    weakClassArr = [] # 分类器列表\n",
    "    m = np.shape(dataArr)[0]\n",
    "    D = np.mat(np.ones((m,1))/m) # 初始样本权重矩阵\n",
    "    aggClassEst = np.mat(np.zeros((m,1))) # 计算最终分类结果的矩阵\n",
    "    for i in range(numIt):\n",
    "        bestStump,error,classEst = buildStump(dataArr,classLabels,D) # 寻找当前D情况下的最优DS decision stump\n",
    "#         print('D;'+str(D.T))\n",
    "\n",
    "        alpha = float(0.5*np.log((1.0-error)/max(error,1e-16))) # 计算当前DS的权重并存贮\n",
    "        bestStump['alpha'] = alpha\n",
    "        weakClassArr.append(bestStump)\n",
    "#         print('class:'+str(classEst.T))\n",
    "\n",
    "        expon = np.multiply(-1*alpha*np.mat(classLabels).T,classEst)  # np.mat(classLabels).T,classEst 的对应相乘，决定了D是增加还是减小\n",
    "        D = np.multiply(D,np.exp(expon))\n",
    "        D = D/D.sum() # 这里要使用更新权重分子后的D来计算sum，以保证D总和为1，D 本身是一个概率分布向量\n",
    "\n",
    "        aggClassEst += alpha*classEst # 概率估计值，是概率值，还不是最终分类标签\n",
    "#         print('aggClassEst:'+str(aggClassEst.T))\n",
    "        aggErrors = np.multiply(np.sign(aggClassEst) != np.mat(classLabels).T, np.ones((m,1))) \n",
    "        # np.sign(aggClassEst) 将概率估计结果转为label\n",
    "        # np.sign(aggClassEst) != np.mat(classLabels).T 产生一个分类准确性 boolean 矩阵\n",
    "        # 与 np.ones((m,1)) 的对应相乘 将 boolean 转换为 1 或 0\n",
    "        errorRate = aggErrors.sum()/m\n",
    "        print('total error: '+str(errorRate))\n",
    "        if errorRate == 0.0 : break\n",
    "    return weakClassArr,aggClassEst"
   ]
  },
  {
   "cell_type": "code",
   "execution_count": 28,
   "metadata": {
    "collapsed": true
   },
   "outputs": [],
   "source": [
    "# 分类结果进行加权求和\n",
    "def adaClassify(dataToClass,classiferArr):\n",
    "    dataMatrix = np.mat(dataToClass)\n",
    "    m = np.shape(dataMatrix)[0]\n",
    "    aggClassEst = np.mat(np.zeros((m,1)))\n",
    "    for i in range(len(classiferArr)):\n",
    "        classEst = stumpClasify(dataMatrix,classiferArr[i]['dim'],classiferArr[i]['thresh'],classiferArr[i]['ineq'])\n",
    "        aggClassEst += classiferArr[i]['alpha']*classEst \n",
    "#         print(aggClassEst)\n",
    "    return np.sign(aggClassEst)  "
   ]
  },
  {
   "cell_type": "code",
   "execution_count": 23,
   "metadata": {},
   "outputs": [],
   "source": [
    "dataArr,labelArr = loadDataSet('./horseColicTraining2.txt')"
   ]
  },
  {
   "cell_type": "code",
   "execution_count": 24,
   "metadata": {},
   "outputs": [
    {
     "name": "stdout",
     "output_type": "stream",
     "text": [
      "total error: 0.284280936455\n",
      "total error: 0.284280936455\n",
      "total error: 0.247491638796\n",
      "total error: 0.247491638796\n",
      "total error: 0.254180602007\n",
      "total error: 0.240802675585\n",
      "total error: 0.240802675585\n",
      "total error: 0.220735785953\n",
      "total error: 0.247491638796\n",
      "total error: 0.230769230769\n",
      "total error: 0.240802675585\n",
      "total error: 0.214046822742\n",
      "total error: 0.227424749164\n",
      "total error: 0.217391304348\n",
      "total error: 0.220735785953\n",
      "total error: 0.217391304348\n",
      "total error: 0.224080267559\n",
      "total error: 0.224080267559\n",
      "total error: 0.230769230769\n",
      "total error: 0.224080267559\n",
      "total error: 0.214046822742\n",
      "total error: 0.207357859532\n",
      "total error: 0.224080267559\n",
      "total error: 0.224080267559\n",
      "total error: 0.214046822742\n",
      "total error: 0.220735785953\n",
      "total error: 0.204013377926\n",
      "total error: 0.207357859532\n",
      "total error: 0.210702341137\n",
      "total error: 0.217391304348\n",
      "total error: 0.210702341137\n",
      "total error: 0.217391304348\n",
      "total error: 0.207357859532\n",
      "total error: 0.210702341137\n",
      "total error: 0.207357859532\n",
      "total error: 0.207357859532\n",
      "total error: 0.197324414716\n",
      "total error: 0.190635451505\n",
      "total error: 0.200668896321\n",
      "total error: 0.197324414716\n",
      "total error: 0.200668896321\n",
      "total error: 0.19397993311\n",
      "total error: 0.19397993311\n",
      "total error: 0.190635451505\n",
      "total error: 0.1872909699\n",
      "total error: 0.190635451505\n",
      "total error: 0.190635451505\n",
      "total error: 0.1872909699\n",
      "total error: 0.19397993311\n",
      "total error: 0.1872909699\n"
     ]
    }
   ],
   "source": [
    "# 由于实际问题的复杂性，所以total error 不一定能收敛到0，一般会稳定到一定的值，此时numItr的设置较为关键\n",
    "# 对于好的数据集，达到最小误差后再增加numItr不会我可没那会有过拟合的问题\n",
    "classifierArr，aggClassEst= adaBoostTrainDS(dataArr,labelArr,50)"
   ]
  },
  {
   "cell_type": "code",
   "execution_count": 25,
   "metadata": {
    "collapsed": true
   },
   "outputs": [],
   "source": [
    "testDataArr,testLabelArr = loadDataSet('./horseColicTest2.txt')"
   ]
  },
  {
   "cell_type": "code",
   "execution_count": 32,
   "metadata": {},
   "outputs": [
    {
     "data": {
      "text/plain": [
       "matrix([[ 1.],\n",
       "        [ 1.],\n",
       "        [ 1.],\n",
       "        [-1.],\n",
       "        [ 1.],\n",
       "        [ 1.],\n",
       "        [ 1.],\n",
       "        [ 1.],\n",
       "        [ 1.],\n",
       "        [-1.],\n",
       "        [-1.],\n",
       "        [-1.],\n",
       "        [-1.],\n",
       "        [ 1.],\n",
       "        [-1.],\n",
       "        [ 1.],\n",
       "        [ 1.],\n",
       "        [-1.],\n",
       "        [-1.],\n",
       "        [-1.],\n",
       "        [-1.],\n",
       "        [ 1.],\n",
       "        [-1.],\n",
       "        [-1.],\n",
       "        [ 1.],\n",
       "        [ 1.],\n",
       "        [ 1.],\n",
       "        [ 1.],\n",
       "        [ 1.],\n",
       "        [ 1.],\n",
       "        [ 1.],\n",
       "        [-1.],\n",
       "        [-1.],\n",
       "        [-1.],\n",
       "        [-1.],\n",
       "        [-1.],\n",
       "        [ 1.],\n",
       "        [ 1.],\n",
       "        [ 1.],\n",
       "        [ 1.],\n",
       "        [ 1.],\n",
       "        [ 1.],\n",
       "        [-1.],\n",
       "        [-1.],\n",
       "        [-1.],\n",
       "        [ 1.],\n",
       "        [-1.],\n",
       "        [ 1.],\n",
       "        [ 1.],\n",
       "        [-1.],\n",
       "        [-1.],\n",
       "        [ 1.],\n",
       "        [ 1.],\n",
       "        [ 1.],\n",
       "        [ 1.],\n",
       "        [ 1.],\n",
       "        [ 1.],\n",
       "        [-1.],\n",
       "        [ 1.],\n",
       "        [-1.],\n",
       "        [ 1.],\n",
       "        [-1.],\n",
       "        [ 1.],\n",
       "        [ 1.],\n",
       "        [ 1.],\n",
       "        [ 1.],\n",
       "        [ 1.]])"
      ]
     },
     "execution_count": 32,
     "metadata": {},
     "output_type": "execute_result"
    }
   ],
   "source": [
    "prediction = adaClassify(testDataArr,classifierArr)\n",
    "prediction"
   ]
  },
  {
   "cell_type": "code",
   "execution_count": 36,
   "metadata": {},
   "outputs": [
    {
     "data": {
      "text/plain": [
       "0.20895522388059701"
      ]
     },
     "execution_count": 36,
     "metadata": {},
     "output_type": "execute_result"
    }
   ],
   "source": [
    "# 在30%缺失数据的情况下\n",
    "errorArr = np.mat(np.ones((67,1)))\n",
    "errorArr[prediction!= np.mat(testLabelArr).T].sum()/67"
   ]
  },
  {
   "cell_type": "code",
   "execution_count": 275,
   "metadata": {
    "collapsed": true
   },
   "outputs": [],
   "source": [
    "def plotROC(predStrengths,classLabels,ax=None,usecolor='blue'):\n",
    "    cur = (1.0,1.0) # 起始坐标\n",
    "    ySum = 0.0 # 统计纵坐标高度，用于计算AUC\n",
    "    numPosClas = np.sum(np.mat(classLabels) == 1.0) # 统计正样本数量\n",
    "    yStep = 1/numPosClas # TPR的步长\n",
    "    xStep = 1/(len(classLabels)-numPosClas) # FPR的步长\n",
    "    sortedIndicies = predStrengths.T.argsort(1) # 指定排序方向，这里是增序排列，所以之后的设置逻辑是设置每一个样本为反\n",
    "    if ax == None:\n",
    "        fig = plt.figure()\n",
    "        fig.clf()\n",
    "        ax = plt.subplot(111)\n",
    "    for index in sortedIndicies.tolist()[0]: #分别设置每一个样本为反\n",
    "        if classLabels[index] == 1.0: # 这里出现一个FN，TPR降低\n",
    "            delX = 0\n",
    "            delY = yStep\n",
    "        else: # 这里出现一个TN FPR降低\n",
    "            delX = xStep\n",
    "            delY = 0\n",
    "            ySum += cur[1]\n",
    "        ax.plot([cur[0],cur[0]-delX],[cur[1],cur[1]-delY],c=usecolor)\n",
    "        cur = (cur[0]-delX,cur[1]-delY)\n",
    "    ax.plot([0,1],[0,1],'b--')\n",
    "    plt.xlabel('FPR')\n",
    "    plt.ylabel('TPR')\n",
    "    plt.title(\"ROC for AdaBoost\")\n",
    "    ax.axis([0,1,0,1])\n",
    "    print('AOC:'+str(ySum*xStep))\n",
    "#     plt.show()\n",
    "    return ax"
   ]
  },
  {
   "cell_type": "code",
   "execution_count": 101,
   "metadata": {
    "collapsed": true
   },
   "outputs": [
    {
     "name": "stdout",
     "output_type": "stream",
     "text": [
      "total error: 0.284280936455\n",
      "total error: 0.284280936455\n",
      "total error: 0.247491638796\n",
      "total error: 0.247491638796\n",
      "total error: 0.254180602007\n",
      "total error: 0.240802675585\n",
      "total error: 0.240802675585\n",
      "total error: 0.220735785953\n",
      "total error: 0.247491638796\n",
      "total error: 0.230769230769\n",
      "total error: 0.240802675585\n",
      "total error: 0.214046822742\n",
      "total error: 0.227424749164\n",
      "total error: 0.217391304348\n",
      "total error: 0.220735785953\n",
      "total error: 0.217391304348\n",
      "total error: 0.224080267559\n",
      "total error: 0.224080267559\n",
      "total error: 0.230769230769\n",
      "total error: 0.224080267559\n",
      "total error: 0.214046822742\n",
      "total error: 0.207357859532\n",
      "total error: 0.224080267559\n",
      "total error: 0.224080267559\n",
      "total error: 0.214046822742\n",
      "total error: 0.220735785953\n",
      "total error: 0.204013377926\n",
      "total error: 0.207357859532\n",
      "total error: 0.210702341137\n",
      "total error: 0.217391304348\n",
      "total error: 0.210702341137\n",
      "total error: 0.217391304348\n",
      "total error: 0.207357859532\n",
      "total error: 0.210702341137\n",
      "total error: 0.207357859532\n",
      "total error: 0.207357859532\n",
      "total error: 0.197324414716\n",
      "total error: 0.190635451505\n",
      "total error: 0.200668896321\n",
      "total error: 0.197324414716\n",
      "total error: 0.200668896321\n",
      "total error: 0.19397993311\n",
      "total error: 0.19397993311\n",
      "total error: 0.190635451505\n",
      "total error: 0.1872909699\n",
      "total error: 0.190635451505\n",
      "total error: 0.190635451505\n",
      "total error: 0.1872909699\n",
      "total error: 0.19397993311\n",
      "total error: 0.1872909699\n"
     ]
    }
   ],
   "source": [
    "classifierArr,addClassEst = adaBoostTrainDS(dataArr,labelArr,50)"
   ]
  },
  {
   "cell_type": "code",
   "execution_count": 273,
   "metadata": {},
   "outputs": [
    {
     "name": "stdout",
     "output_type": "stream",
     "text": [
      "AOC:0.895394187018\n"
     ]
    }
   ],
   "source": [
    "ax = plotROC(addClassEst,labelArr)"
   ]
  },
  {
   "cell_type": "code",
   "execution_count": 105,
   "metadata": {},
   "outputs": [
    {
     "name": "stdout",
     "output_type": "stream",
     "text": [
      "total error: 0.284280936455\n",
      "total error: 0.284280936455\n",
      "total error: 0.247491638796\n",
      "total error: 0.247491638796\n",
      "total error: 0.254180602007\n",
      "total error: 0.240802675585\n",
      "total error: 0.240802675585\n",
      "total error: 0.220735785953\n",
      "total error: 0.247491638796\n",
      "total error: 0.230769230769\n"
     ]
    }
   ],
   "source": [
    "classifierArr10,addClassEst10 = adaBoostTrainDS(dataArr,labelArr,10)"
   ]
  },
  {
   "cell_type": "code",
   "execution_count": 274,
   "metadata": {},
   "outputs": [
    {
     "name": "stdout",
     "output_type": "stream",
     "text": [
      "AOC:0.858296963506\n"
     ]
    },
    {
     "data": {
      "image/png": "[encoded data removed]",
      "text/plain": [
       "<matplotlib.figure.Figure at 0x21f5d267cf8>"
      ]
     },
     "metadata": {},
     "output_type": "display_data"
    }
   ],
   "source": [
    "ax2 = plotROC(addClassEst10,labelArr,ax,'red')\n",
    "plt.show() \n",
    "# 这里的绘图存在一定问题\n",
    "# 注意一旦一张图已经被绘制，重新绘制需要使用别的方法\n",
    "# 两条曲线嵌套，外层的"
   ]
  }
 ],
 "metadata": {
  "kernelspec": {
   "display_name": "Python 3.6 root",
   "language": "python",
   "name": "python3"
  },
  "language_info": {
   "codemirror_mode": {
    "name": "ipython",
    "version": 3
   },
   "file_extension": ".py",
   "mimetype": "text/x-python",
   "name": "python",
   "nbconvert_exporter": "python",
   "pygments_lexer": "ipython3",
   "version": "3.6.3"
  }
 },
 "nbformat": 4,
 "nbformat_minor": 2
}
