{
 "cells": [
  {
   "cell_type": "code",
   "execution_count": 5,
   "metadata": {
    "collapsed": true
   },
   "outputs": [],
   "source": [
    "import numpy as np"
   ]
  },
  {
   "cell_type": "code",
   "execution_count": 6,
   "metadata": {
    "collapsed": true
   },
   "outputs": [],
   "source": [
    "def loadDataSet():  \n",
    "    postingList=[['my','dog','has','flea','problem','help','please'],  \n",
    "                 ['maybe','not','take','him','to','dog','park','stupid'],  \n",
    "                 ['my','dalmation','is','so','cute','I','love','him'],  \n",
    "                 ['stop','posting','ate','my','steak','how','to','stop','him'],  \n",
    "                 ['mr','licks','ate','my','steak','how','to','stop','him'],  \n",
    "                 ['quit','buying','worthless','dog','food','stupid']]  \n",
    "    classVec=[0,1,0,1,0,1]  \n",
    "    return postingList,classVec "
   ]
  },
  {
   "cell_type": "code",
   "execution_count": 7,
   "metadata": {
    "collapsed": true
   },
   "outputs": [],
   "source": [
    "def createVocabList(dataSet):\n",
    "    vocabSet = set([]) \n",
    "    for document in dataSet:\n",
    "        vocabSet = set(document) | vocabSet # 取并集用于构建集合\n",
    "    return list(vocabSet)"
   ]
  },
  {
   "cell_type": "code",
   "execution_count": 8,
   "metadata": {
    "collapsed": true
   },
   "outputs": [],
   "source": [
    "def setOfWordsToVect(vocabList,inputSet):\n",
    "    returnVec = [0]*len(vocabList) # 单词向量和单词列表长度相同\n",
    "    for word in inputSet:\n",
    "        if word in vocabList:\n",
    "            returnVec[vocabList.index(word)] = 1 # 词集模型\n",
    "        else:\n",
    "            print(\"单词：%s 不存在于单词表中\"%word)\n",
    "    return returnVec\n",
    "\n",
    "def bagOfWordsToVect(vocabList,inputSet):\n",
    "    returnVec = [0]*len(vocabList) # 单词向量和单词列表长度相同\n",
    "    for word in inputSet:\n",
    "        if word in vocabList:\n",
    "            returnVec[vocabList.index(word)] += 1 # 词袋模型\n",
    "        else:\n",
    "            print(\"单词：%s 不存在于单词表中\"%word)\n",
    "    return returnVec"
   ]
  },
  {
   "cell_type": "code",
   "execution_count": 9,
   "metadata": {},
   "outputs": [
    {
     "name": "stdout",
     "output_type": "stream",
     "text": [
      "['so', 'problem', 'him', 'dog', 'food', 'not', 'ate', 'mr', 'help', 'licks', 'posting', 'has', 'please', 'take', 'worthless', 'stop', 'quit', 'dalmation', 'steak', 'park', 'buying', 'is', 'love', 'maybe', 'to', 'my', 'cute', 'stupid', 'I', 'flea', 'how']\n"
     ]
    }
   ],
   "source": [
    "listOposts,listClasses  = loadDataSet()\n",
    "vocabList = createVocabList(listOposts)\n",
    "print(vocabList)"
   ]
  },
  {
   "cell_type": "code",
   "execution_count": 10,
   "metadata": {},
   "outputs": [
    {
     "name": "stdout",
     "output_type": "stream",
     "text": [
      "[0, 1, 0, 1, 0, 0, 0, 0, 1, 0, 0, 1, 1, 0, 0, 0, 0, 0, 0, 0, 0, 0, 0, 0, 0, 1, 0, 0, 0, 1, 0]\n"
     ]
    }
   ],
   "source": [
    "print(setOfWordsToVect(vocabList, listOposts[0]))"
   ]
  },
  {
   "cell_type": "code",
   "execution_count": 11,
   "metadata": {
    "collapsed": true
   },
   "outputs": [],
   "source": [
    "def trainNB0(trainMatrix,trainCategory): # 注意输入值为np.ndarray类型\n",
    "    numTrainDocs = len(trainMatrix)\n",
    "    pAbusive = np.sum(trainCategory)/numTrainDocs # 分类为1的p(c1)\n",
    "    numWords = len(trainMatrix[0])\n",
    "#     p0Num = np.zeros(numWords) # 各类别中每个单词出现次数统计结果列表\n",
    "#     p1Num = np.zeros(numWords)\n",
    "#     p0Denom = 0.0 # 各类别中单词的总数\n",
    "#     p1Denom = 0.0\n",
    "    p0Num = np.ones(numWords) # 各类别中每个单词出现次数统计结果列表 # 理论上解决了一个p(wj | ci)结果为0，导致全部结果为0\n",
    "    p1Num = np.ones(numWords)\n",
    "    p0Denom = 2 # 各类别中单词的总数\n",
    "    p1Denom = 2\n",
    "    for i in range(numTrainDocs):\n",
    "        if trainCategory[i] == 1:\n",
    "            p1Num += trainMatrix[i]\n",
    "            p1Denom += sum(trainMatrix[i])\n",
    "        else:\n",
    "            p0Num += trainMatrix[i]\n",
    "            p0Denom += sum(trainMatrix[i]) \n",
    "    # 取对数：解决多次连乘导致的下溢出，同时解决了一个p(wj | ci)结果为0，导致全部结果为0，\n",
    "    # 否则在做预测时就需要将词向量为0对应的pVect计算项剔除，避免了结果乘积为0\n",
    "    p0Vect = np.log(p0Num/p0Denom)\n",
    "    p1Vect = np.log(p1Num/p1Denom)\n",
    "    return p0Vect,p1Vect,pAbusive\n",
    "    \n",
    "# 如何实现一个多分类的贝叶斯分类器\n",
    "\n",
    "def trainNB0M(trainMatrix,trainCategory): # 注意输入值为np.ndarray类型\n",
    "    numTrainDocs = len(trainMatrix)\n",
    "    classList = set(trainCategory) # 构建类别列表\n",
    "    classNum = np.array([trainCategory.count(category) for category in classList])\n",
    "    pClass = classNum/numTrainDocs # 分类为n的p(Cn)\n",
    "    numWords = len(trainMatrix[0])\n",
    "    pCateNum = np.ones((classNum,numWords)) # 各类别中每个单词出现次数统计结果列表\n",
    "    pCateDenom = np.ones(classNum)*classNum # 各类别中单词的总数  # 为防止广播失效，最好将classNum构建成[1,n]维度矩阵而不是n维数组\n",
    "    for i in range(numTrainDocs):\n",
    "        for cate in classList:\n",
    "            if trainCategory[i] == cate:\n",
    "                pCateNum[cate] += trainMatrix[i]\n",
    "                pCateDenom += sum(trainMatrix[i])\n",
    "    pCateVect = np.log(pCateNum/pCateDenom)\n",
    "    return pCateVect,pClass"
   ]
  },
  {
   "cell_type": "code",
   "execution_count": 12,
   "metadata": {
    "collapsed": true
   },
   "outputs": [],
   "source": [
    "def classify(vect2Classify,p0Vect,p1Vect,pClass1):\n",
    "    p0 = sum(vect2Classify*p0Vect)+np.log(1-pClass1)\n",
    "    p1 = sum(vect2Classify*p1Vect)+np.log(pClass1)\n",
    "    if p1 > p0:\n",
    "        return 1\n",
    "    else:\n",
    "        return 0\n",
    "    "
   ]
  },
  {
   "cell_type": "code",
   "execution_count": 13,
   "metadata": {
    "collapsed": true
   },
   "outputs": [],
   "source": [
    "def testingNB():\n",
    "    listOPosts,listClasses = loadDataSet()\n",
    "    myVocabList = createVocabList(listOPosts)\n",
    "    trainMat = []\n",
    "    for postinDoc in listOPosts:\n",
    "        trainMat.append(setOfWordsToVect(myVocabList, postinDoc))\n",
    "    p0V,p1V,pAb = trainNB0(np.array(trainMat),np.array(listClasses))\n",
    "    testEntry = ['love','my','dalmation']\n",
    "    testDoc  = np.array(setOfWordsToVect(myVocabList,testEntry))\n",
    "    print(str(testEntry)+\" 分类为：%d\"%classify(testDoc,p0V,p1V,pAb))\n",
    "    testEntry = ['stupid','garbage']\n",
    "    testDoc  = np.array(setOfWordsToVect(myVocabList,testEntry))\n",
    "    print(str(testEntry)+\" 分类为：%d\"%classify(testDoc,p0V,p1V,pAb))"
   ]
  },
  {
   "cell_type": "code",
   "execution_count": 14,
   "metadata": {},
   "outputs": [
    {
     "name": "stdout",
     "output_type": "stream",
     "text": [
      "['love', 'my', 'dalmation'] 分类为：0\n",
      "单词：garbage 不存在于单词表中\n",
      "['stupid', 'garbage'] 分类为：1\n"
     ]
    }
   ],
   "source": [
    "testingNB()"
   ]
  },
  {
   "cell_type": "markdown",
   "metadata": {},
   "source": [
    "# 邮件分类问题"
   ]
  },
  {
   "cell_type": "code",
   "execution_count": 95,
   "metadata": {
    "collapsed": true
   },
   "outputs": [],
   "source": [
    "def textParse(bigString):\n",
    "    import re \n",
    "    listOfTokens = re.split(r'\\W*',bigString) # 对比python str.split() 有效剔除了其中标点符号，但是依然存在空白字符 \n",
    "    return [token.lower() for token in listOfTokens if len(token) > 2] # 通过字长去除空白字符，以及高频介词，缩略语等"
   ]
  },
  {
   "cell_type": "code",
   "execution_count": 96,
   "metadata": {},
   "outputs": [],
   "source": [
    "def spamTest():\n",
    "    docList = []\n",
    "    classList = []\n",
    "    fullText = []\n",
    "    # 将所有邮件构建成多维List\n",
    "    for i in range(1,26):\n",
    "        wordList = textParse(open('./email/spam/%d.txt'%i).read())\n",
    "        docList.append(wordList)\n",
    "        fullText.extend(wordList)\n",
    "        classList.append(1)\n",
    "        wordList = textParse(open('./email/ham/%d.txt'%i).read())\n",
    "        docList.append(wordList)\n",
    "        fullText.extend(wordList)\n",
    "        classList.append(0)\n",
    "    # 构建词列表\n",
    "    vocabList = createVocabList(docList)\n",
    "    # 随机挑选构建训练集\n",
    "    # 剩余数据用于测试\n",
    "    trainingSet = list(range(50))\n",
    "    testSet = []\n",
    "    for i in range(10):\n",
    "        randIndex = int(np.random.uniform(0,len(trainingSet)))\n",
    "        testSet.append(trainingSet[randIndex]) # 这一步多余？testSet.append(randIndex)\n",
    "        del(trainingSet[randIndex])\n",
    "    # 构建训练矩阵\n",
    "    trainMat = []\n",
    "    trainClasses = []\n",
    "    for docIndex in trainingSet:\n",
    "        trainMat.append(setOfWordsToVect(vocabList,docList[docIndex]))\n",
    "        trainClasses.append(classList[docIndex])\n",
    "    # 训练模型 -> 计算贝叶斯方程中的条件概率\n",
    "    p0V,p1V,pSpam = trainNB0(np.array(trainMat),np.array(trainClasses))\n",
    "    errorCount = 0\n",
    "    for docIndex in testSet:\n",
    "        wordVector = setOfWordsToVect(vocabList,docList[docIndex])\n",
    "        if classify(wordVector,p0V,p1V,pSpam) != classList[docIndex]:\n",
    "            errorCount += 1 # 简写得需要先初始化，不然初始值不知道，无法做运算\n",
    "            print (\"classfication error\", docList[docIndex])\n",
    "    n = errorCount/len(testSet)\n",
    "    print( '错误率是: %f'%n )"
   ]
  },
  {
   "cell_type": "code",
   "execution_count": 122,
   "metadata": {},
   "outputs": [
    {
     "name": "stdout",
     "output_type": "stream",
     "text": [
      "classfication error ['home', 'based', 'business', 'opportunity', 'knocking', 'your', 'door', 'don抰', 'rude', 'and', 'let', 'this', 'chance', 'you', 'can', 'earn', 'great', 'income', 'and', 'find', 'your', 'financial', 'life', 'transformed', 'learn', 'more', 'here', 'your', 'success', 'work', 'from', 'home', 'finder', 'experts']\n",
      "错误率是: 0.100000\n"
     ]
    },
    {
     "name": "stderr",
     "output_type": "stream",
     "text": [
      "C:\\ProgramData\\Anaconda3\\lib\\re.py:212: FutureWarning: split() requires a non-empty pattern match.\n",
      "  return _compile(pattern, flags).split(string, maxsplit)\n"
     ]
    }
   ],
   "source": [
    "spamTest()"
   ]
  }
 ],
 "metadata": {
  "kernelspec": {
   "display_name": "Python 3.6 root",
   "language": "python",
   "name": "python3"
  },
  "language_info": {
   "codemirror_mode": {
    "name": "ipython",
    "version": 3
   },
   "file_extension": ".py",
   "mimetype": "text/x-python",
   "name": "python",
   "nbconvert_exporter": "python",
   "pygments_lexer": "ipython3",
   "version": "3.6.3"
  }
 },
 "nbformat": 4,
 "nbformat_minor": 2
}
