{
 "cells": [
  {
   "cell_type": "code",
   "execution_count": 37,
   "metadata": {
    "collapsed": true
   },
   "outputs": [],
   "source": [
    "import numpy as np\n",
    "import matplotlib.pyplot as plt"
   ]
  },
  {
   "cell_type": "code",
   "execution_count": 38,
   "metadata": {
    "collapsed": true
   },
   "outputs": [],
   "source": [
    "# 载入数据\n",
    "def loadDataSet(fileName):\n",
    "    dataMat =[]\n",
    "    labelMat = []\n",
    "    with open(fileName) as fr:\n",
    "        for line in fr.readlines():\n",
    "            lineArr = line.strip().split('\\t')\n",
    "            dataMat.append([float(lineArr[0]),float(lineArr[1])])\n",
    "            labelMat.append(float(lineArr[2]))\n",
    "    return dataMat,labelMat"
   ]
  },
  {
   "cell_type": "code",
   "execution_count": 39,
   "metadata": {
    "collapsed": true
   },
   "outputs": [],
   "source": [
    "dataArr,labelArr = loadDataSet('./testSet.txt')"
   ]
  },
  {
   "cell_type": "code",
   "execution_count": 40,
   "metadata": {
    "collapsed": true
   },
   "outputs": [],
   "source": [
    "# 全局数据存贮对象\n",
    "class optStruct:\n",
    "    def __init__(self,dataMatIn,classLabels,C,toler):\n",
    "        self.X = dataMatIn\n",
    "        self.labelMat = classLabels\n",
    "        self.C = C\n",
    "        self.tol = toler\n",
    "        self.m = np.shape(dataMatIn)[0]\n",
    "        self.alphas = np.mat(np.zeros((self.m,1)))\n",
    "        self.b = 0\n",
    "        self.eCache = np.mat(np.zeros((self.m,2))) # [1,Ek] 第一位是使能标志位，第二位是Ek值"
   ]
  },
  {
   "cell_type": "code",
   "execution_count": 41,
   "metadata": {
    "collapsed": true
   },
   "outputs": [],
   "source": [
    "# 计算误差值\n",
    "def calcEk(oS,k):\n",
    "    fXk = float(np.multiply(oS.alphas,oS.labelMat).T*(oS.X*oS.X[k,:].T)) + oS.b\n",
    "    Ek = fXk - float(oS.labelMat[k])\n",
    "    return Ek"
   ]
  },
  {
   "cell_type": "code",
   "execution_count": 42,
   "metadata": {
    "collapsed": true
   },
   "outputs": [],
   "source": [
    "# 从剩余alpha索引中随机选择一个\n",
    "# i aplha下标\n",
    "# m 所有alpha的数目\n",
    "def selectJrand(i,m):\n",
    "    j = i \n",
    "    while(j == i): # 保证从剩余中选取\n",
    "        j = int(np.random.uniform(1,m))\n",
    "    return j"
   ]
  },
  {
   "cell_type": "code",
   "execution_count": 43,
   "metadata": {
    "collapsed": true
   },
   "outputs": [],
   "source": [
    "#  调整大于H或小于L的aplha值\n",
    "def clipAlpha(aj,H,L):\n",
    "    if aj > H:\n",
    "        aj = H\n",
    "    elif aj < L:\n",
    "        aj = L\n",
    "    return aj"
   ]
  },
  {
   "cell_type": "code",
   "execution_count": 44,
   "metadata": {
    "collapsed": true
   },
   "outputs": [],
   "source": [
    "# 启发式选取内层循环的j索引\n",
    "def selectJ(i,oS,Ei):\n",
    "    maxK = -1\n",
    "    maxDeltaE = 0\n",
    "    Ej = 0\n",
    "    oS.eCache[i] = [1,Ei]\n",
    "    validEcacheList = np.nonzero(oS.eCache[:,0].A)[0] # 已计算过E值的j索引\n",
    "    if len(validEcacheList) > 1:\n",
    "        for k in validEcacheList:\n",
    "            if k == i :\n",
    "                continue\n",
    "            Ek = calcEk(oS,k) # 重新计算\n",
    "            deltaE = abs(Ei-Ek) # 选取E最大值对应的j\n",
    "            if deltaE > maxDeltaE:\n",
    "                maxK = k\n",
    "                maxDeltaE = deltaE\n",
    "                Ej = Ek\n",
    "        return maxK,Ej\n",
    "    else:\n",
    "        j = selectJrand(i,oS.m) # 第一次寻找，随机寻找\n",
    "        Ej = calcEk(oS,j)\n",
    "    return j,Ej"
   ]
  },
  {
   "cell_type": "code",
   "execution_count": 45,
   "metadata": {
    "collapsed": true
   },
   "outputs": [],
   "source": [
    "# alpha值优化后需要存储Ek\n",
    "def updateEk(oS,k):\n",
    "    Ek = calcEk(oS,k)\n",
    "    oS.eCache[k] = [1,Ek]"
   ]
  },
  {
   "cell_type": "code",
   "execution_count": 46,
   "metadata": {
    "collapsed": true
   },
   "outputs": [],
   "source": [
    "def innerL(i,oS):\n",
    "    Ei = calcEk(oS,i)\n",
    "    # 测试容错率\n",
    "    if ((oS.labelMat[i]*Ei < -oS.tol) and (oS.alphas[i] <oS.C)) or ((oS.labelMat[i]*Ei > oS.tol)and(oS.alphas[i] >0)):\n",
    "        j,Ej = selectJ(i,oS,Ei)\n",
    "        alphaIold = oS.alphas[i].copy()\n",
    "        alphaJold = oS.alphas[j].copy()\n",
    "        if (oS.labelMat[i] != oS.labelMat[j]):\n",
    "            L = max(0,oS.alphas[j] - oS.alphas[i])\n",
    "            H = min(oS.C,oS.C + oS.alphas[j] - oS.alphas[i])\n",
    "        else:\n",
    "            L = max(0,oS.alphas[j] + oS.alphas[i] -oS.C)\n",
    "            H = min(oS.C,oS.alphas[j] + oS.alphas[i])\n",
    "        if L==H:print(\"L==H\");return 0\n",
    "        eta = 2.0 *  oS.X[i,:]*oS.X[j,:].T - oS.X[i,:]*oS.X[i,:].T - oS.X[j,:]*oS.X[j,:].T\n",
    "        if eta >=0: print('eta >= 0 ');return 0\n",
    "        oS.alphas[j] -= oS.labelMat[j]*(Ei - Ej)/eta\n",
    "        oS.alphas[j] = clipAlpha(oS.alphas[j],H,L)\n",
    "        updateEk(oS,j)\n",
    "        if abs(oS.alphas[j] - alphaJold) < 0.00001:\n",
    "            print('j not moving enough')\n",
    "            return 0\n",
    "        oS.alphas[i] += oS.labelMat[j]*oS.labelMat[i]*(alphaJold - oS.alphas[j])\n",
    "        updateEk(oS,i)\n",
    "        b1 = oS.b - Ei - oS.labelMat[i]*(oS.alphas[i]-alphaIold)*oS.X[i,:]*oS.X[i,:].T  - oS.labelMat[j]*(oS.alphas[j]-alphaJold)*oS.X[i,:]*oS.X[j,:].T\n",
    "        b2 = oS.b - Ej - oS.labelMat[i]*(oS.alphas[i]-alphaIold)*oS.X[i,:]*oS.X[j,:].T  - oS.labelMat[j]*(oS.alphas[j]-alphaJold)*oS.X[j,:]*oS.X[j,:].T\n",
    "        if  (0<oS.alphas[i]) and (oS.C > oS.alphas[i]):\n",
    "            oS.b = b1\n",
    "        elif (0<oS.alphas[j]) and (oS.C > oS.alphas[j]):\n",
    "            oS.b = b2\n",
    "        else:\n",
    "            oS.b = (b1+b2)/2.0\n",
    "        return 1\n",
    "    else:\n",
    "        return 0"
   ]
  },
  {
   "cell_type": "code",
   "execution_count": 47,
   "metadata": {
    "collapsed": true
   },
   "outputs": [],
   "source": [
    "def smoP(dataMatIn,classLabels,C,toler,maxIter):\n",
    "    oS = optStruct(np.mat(dataMatIn),np.mat(classLabels).transpose(),C,toler)\n",
    "    iterNum = 0\n",
    "    entireSet = True\n",
    "    alphaPairsChanged = 0\n",
    "    while(iterNum<maxIter) and ((alphaPairsChanged >0)or entireSet):\n",
    "        alphaPairsChanged = 0\n",
    "        if entireSet:\n",
    "            for i in range(oS.m):\n",
    "                alphaPairsChanged += innerL(i,oS)\n",
    "                print('fullset, iterNUm: %d i: %d, pairs changed %d'%(iterNum,i,alphaPairsChanged))\n",
    "            iterNum += 1\n",
    "        else:\n",
    "            nonBoundIs = np.nonzero((oS.alphas.A >0)*(oS.alphas.A<C))[0]\n",
    "            for i in nonBoundIs:\n",
    "                alphaPairsChanged += innerL(i,oS)\n",
    "                print(\"non-bound, iterNum:%d i:%d, pairs changed %d\"%(iterNum,i,alphaPairsChanged))\n",
    "            iterNum += 1\n",
    "        if entireSet:\n",
    "            entireSet = False\n",
    "        elif alphaPairsChanged == 0:\n",
    "            entireSet = True\n",
    "        print('iteration number: %d'%iterNum)\n",
    "    return oS.b,oS.alphas\n",
    "            \n",
    "                      "
   ]
  },
  {
   "cell_type": "code",
   "execution_count": 48,
   "metadata": {},
   "outputs": [
    {
     "name": "stdout",
     "output_type": "stream",
     "text": [
      "L==H\n",
      "fullset, iterNUm: 0 i: 0, pairs changed 0\n",
      "L==H\n",
      "fullset, iterNUm: 0 i: 1, pairs changed 0\n",
      "fullset, iterNUm: 0 i: 2, pairs changed 1\n",
      "L==H\n",
      "fullset, iterNUm: 0 i: 3, pairs changed 1\n",
      "fullset, iterNUm: 0 i: 4, pairs changed 2\n",
      "fullset, iterNUm: 0 i: 5, pairs changed 2\n",
      "fullset, iterNUm: 0 i: 6, pairs changed 2\n",
      "j not moving enough\n",
      "fullset, iterNUm: 0 i: 7, pairs changed 2\n",
      "L==H\n",
      "fullset, iterNUm: 0 i: 8, pairs changed 2\n",
      "fullset, iterNUm: 0 i: 9, pairs changed 2\n",
      "L==H\n",
      "fullset, iterNUm: 0 i: 10, pairs changed 2\n",
      "L==H\n",
      "fullset, iterNUm: 0 i: 11, pairs changed 2\n",
      "L==H\n",
      "fullset, iterNUm: 0 i: 12, pairs changed 2\n",
      "fullset, iterNUm: 0 i: 13, pairs changed 2\n",
      "L==H\n",
      "fullset, iterNUm: 0 i: 14, pairs changed 2\n",
      "fullset, iterNUm: 0 i: 15, pairs changed 2\n",
      "fullset, iterNUm: 0 i: 16, pairs changed 2\n",
      "L==H\n",
      "fullset, iterNUm: 0 i: 17, pairs changed 2\n",
      "fullset, iterNUm: 0 i: 18, pairs changed 3\n",
      "fullset, iterNUm: 0 i: 19, pairs changed 3\n",
      "fullset, iterNUm: 0 i: 20, pairs changed 3\n",
      "fullset, iterNUm: 0 i: 21, pairs changed 3\n",
      "j not moving enough\n",
      "fullset, iterNUm: 0 i: 22, pairs changed 3\n",
      "L==H\n",
      "fullset, iterNUm: 0 i: 23, pairs changed 3\n",
      "L==H\n",
      "fullset, iterNUm: 0 i: 24, pairs changed 3\n",
      "fullset, iterNUm: 0 i: 25, pairs changed 4\n",
      "j not moving enough\n",
      "fullset, iterNUm: 0 i: 26, pairs changed 4\n",
      "fullset, iterNUm: 0 i: 27, pairs changed 4\n",
      "fullset, iterNUm: 0 i: 28, pairs changed 4\n",
      "L==H\n",
      "fullset, iterNUm: 0 i: 29, pairs changed 4\n",
      "fullset, iterNUm: 0 i: 30, pairs changed 4\n",
      "fullset, iterNUm: 0 i: 31, pairs changed 4\n",
      "fullset, iterNUm: 0 i: 32, pairs changed 4\n",
      "fullset, iterNUm: 0 i: 33, pairs changed 4\n",
      "fullset, iterNUm: 0 i: 34, pairs changed 4\n",
      "fullset, iterNUm: 0 i: 35, pairs changed 4\n",
      "fullset, iterNUm: 0 i: 36, pairs changed 4\n",
      "fullset, iterNUm: 0 i: 37, pairs changed 4\n",
      "fullset, iterNUm: 0 i: 38, pairs changed 4\n",
      "fullset, iterNUm: 0 i: 39, pairs changed 4\n",
      "fullset, iterNUm: 0 i: 40, pairs changed 4\n",
      "fullset, iterNUm: 0 i: 41, pairs changed 4\n",
      "fullset, iterNUm: 0 i: 42, pairs changed 4\n",
      "fullset, iterNUm: 0 i: 43, pairs changed 4\n",
      "fullset, iterNUm: 0 i: 44, pairs changed 4\n",
      "fullset, iterNUm: 0 i: 45, pairs changed 4\n",
      "fullset, iterNUm: 0 i: 46, pairs changed 5\n",
      "fullset, iterNUm: 0 i: 47, pairs changed 5\n",
      "fullset, iterNUm: 0 i: 48, pairs changed 5\n",
      "fullset, iterNUm: 0 i: 49, pairs changed 5\n",
      "fullset, iterNUm: 0 i: 50, pairs changed 5\n",
      "fullset, iterNUm: 0 i: 51, pairs changed 5\n",
      "L==H\n",
      "fullset, iterNUm: 0 i: 52, pairs changed 5\n",
      "fullset, iterNUm: 0 i: 53, pairs changed 5\n",
      "L==H\n",
      "fullset, iterNUm: 0 i: 54, pairs changed 5\n",
      "L==H\n",
      "fullset, iterNUm: 0 i: 55, pairs changed 5\n",
      "fullset, iterNUm: 0 i: 56, pairs changed 5\n",
      "fullset, iterNUm: 0 i: 57, pairs changed 5\n",
      "fullset, iterNUm: 0 i: 58, pairs changed 5\n",
      "fullset, iterNUm: 0 i: 59, pairs changed 5\n",
      "fullset, iterNUm: 0 i: 60, pairs changed 5\n",
      "fullset, iterNUm: 0 i: 61, pairs changed 5\n",
      "fullset, iterNUm: 0 i: 62, pairs changed 5\n",
      "fullset, iterNUm: 0 i: 63, pairs changed 5\n",
      "fullset, iterNUm: 0 i: 64, pairs changed 5\n",
      "fullset, iterNUm: 0 i: 65, pairs changed 5\n",
      "fullset, iterNUm: 0 i: 66, pairs changed 5\n",
      "fullset, iterNUm: 0 i: 67, pairs changed 5\n",
      "fullset, iterNUm: 0 i: 68, pairs changed 5\n",
      "L==H\n",
      "fullset, iterNUm: 0 i: 69, pairs changed 5\n",
      "fullset, iterNUm: 0 i: 70, pairs changed 5\n",
      "fullset, iterNUm: 0 i: 71, pairs changed 5\n",
      "fullset, iterNUm: 0 i: 72, pairs changed 5\n",
      "fullset, iterNUm: 0 i: 73, pairs changed 5\n",
      "fullset, iterNUm: 0 i: 74, pairs changed 5\n",
      "fullset, iterNUm: 0 i: 75, pairs changed 5\n",
      "fullset, iterNUm: 0 i: 76, pairs changed 5\n",
      "fullset, iterNUm: 0 i: 77, pairs changed 5\n",
      "fullset, iterNUm: 0 i: 78, pairs changed 5\n",
      "fullset, iterNUm: 0 i: 79, pairs changed 5\n",
      "fullset, iterNUm: 0 i: 80, pairs changed 5\n",
      "fullset, iterNUm: 0 i: 81, pairs changed 5\n",
      "fullset, iterNUm: 0 i: 82, pairs changed 5\n",
      "fullset, iterNUm: 0 i: 83, pairs changed 5\n",
      "fullset, iterNUm: 0 i: 84, pairs changed 5\n",
      "fullset, iterNUm: 0 i: 85, pairs changed 5\n",
      "fullset, iterNUm: 0 i: 86, pairs changed 5\n",
      "fullset, iterNUm: 0 i: 87, pairs changed 5\n",
      "fullset, iterNUm: 0 i: 88, pairs changed 5\n",
      "fullset, iterNUm: 0 i: 89, pairs changed 5\n",
      "fullset, iterNUm: 0 i: 90, pairs changed 5\n",
      "fullset, iterNUm: 0 i: 91, pairs changed 5\n",
      "fullset, iterNUm: 0 i: 92, pairs changed 5\n",
      "fullset, iterNUm: 0 i: 93, pairs changed 5\n",
      "fullset, iterNUm: 0 i: 94, pairs changed 6\n",
      "fullset, iterNUm: 0 i: 95, pairs changed 6\n",
      "fullset, iterNUm: 0 i: 96, pairs changed 6\n",
      "j not moving enough\n",
      "fullset, iterNUm: 0 i: 97, pairs changed 6\n",
      "fullset, iterNUm: 0 i: 98, pairs changed 6\n",
      "fullset, iterNUm: 0 i: 99, pairs changed 6\n",
      "iteration number: 1\n",
      "j not moving enough\n",
      "non-bound, iterNum:1 i:0, pairs changed 0\n",
      "j not moving enough\n",
      "non-bound, iterNum:1 i:3, pairs changed 0\n",
      "j not moving enough\n",
      "non-bound, iterNum:1 i:4, pairs changed 0\n",
      "j not moving enough\n",
      "non-bound, iterNum:1 i:17, pairs changed 0\n",
      "j not moving enough\n",
      "non-bound, iterNum:1 i:18, pairs changed 0\n",
      "j not moving enough\n",
      "non-bound, iterNum:1 i:25, pairs changed 0\n",
      "j not moving enough\n",
      "non-bound, iterNum:1 i:46, pairs changed 0\n",
      "non-bound, iterNum:1 i:55, pairs changed 0\n",
      "non-bound, iterNum:1 i:94, pairs changed 0\n",
      "iteration number: 2\n",
      "j not moving enough\n",
      "fullset, iterNUm: 2 i: 0, pairs changed 0\n",
      "fullset, iterNUm: 2 i: 1, pairs changed 0\n",
      "fullset, iterNUm: 2 i: 2, pairs changed 0\n",
      "j not moving enough\n",
      "fullset, iterNUm: 2 i: 3, pairs changed 0\n",
      "j not moving enough\n",
      "fullset, iterNUm: 2 i: 4, pairs changed 0\n",
      "fullset, iterNUm: 2 i: 5, pairs changed 0\n",
      "fullset, iterNUm: 2 i: 6, pairs changed 0\n",
      "fullset, iterNUm: 2 i: 7, pairs changed 0\n",
      "j not moving enough\n",
      "fullset, iterNUm: 2 i: 8, pairs changed 0\n",
      "fullset, iterNUm: 2 i: 9, pairs changed 0\n",
      "j not moving enough\n",
      "fullset, iterNUm: 2 i: 10, pairs changed 0\n",
      "fullset, iterNUm: 2 i: 11, pairs changed 0\n",
      "fullset, iterNUm: 2 i: 12, pairs changed 0\n",
      "fullset, iterNUm: 2 i: 13, pairs changed 0\n",
      "fullset, iterNUm: 2 i: 14, pairs changed 0\n",
      "fullset, iterNUm: 2 i: 15, pairs changed 0\n",
      "fullset, iterNUm: 2 i: 16, pairs changed 0\n",
      "j not moving enough\n",
      "fullset, iterNUm: 2 i: 17, pairs changed 0\n",
      "j not moving enough\n",
      "fullset, iterNUm: 2 i: 18, pairs changed 0\n",
      "fullset, iterNUm: 2 i: 19, pairs changed 0\n",
      "fullset, iterNUm: 2 i: 20, pairs changed 0\n",
      "fullset, iterNUm: 2 i: 21, pairs changed 0\n",
      "fullset, iterNUm: 2 i: 22, pairs changed 0\n",
      "L==H\n",
      "fullset, iterNUm: 2 i: 23, pairs changed 0\n",
      "j not moving enough\n",
      "fullset, iterNUm: 2 i: 24, pairs changed 0\n",
      "j not moving enough\n",
      "fullset, iterNUm: 2 i: 25, pairs changed 0\n",
      "fullset, iterNUm: 2 i: 26, pairs changed 0\n",
      "fullset, iterNUm: 2 i: 27, pairs changed 0\n",
      "fullset, iterNUm: 2 i: 28, pairs changed 0\n",
      "L==H\n",
      "fullset, iterNUm: 2 i: 29, pairs changed 0\n",
      "j not moving enough\n",
      "fullset, iterNUm: 2 i: 30, pairs changed 0\n",
      "fullset, iterNUm: 2 i: 31, pairs changed 0\n",
      "fullset, iterNUm: 2 i: 32, pairs changed 0\n",
      "fullset, iterNUm: 2 i: 33, pairs changed 0\n",
      "fullset, iterNUm: 2 i: 34, pairs changed 0\n",
      "fullset, iterNUm: 2 i: 35, pairs changed 0\n",
      "fullset, iterNUm: 2 i: 36, pairs changed 0\n",
      "fullset, iterNUm: 2 i: 37, pairs changed 0\n",
      "fullset, iterNUm: 2 i: 38, pairs changed 0\n",
      "fullset, iterNUm: 2 i: 39, pairs changed 0\n",
      "fullset, iterNUm: 2 i: 40, pairs changed 0\n",
      "fullset, iterNUm: 2 i: 41, pairs changed 0\n",
      "fullset, iterNUm: 2 i: 42, pairs changed 0\n",
      "fullset, iterNUm: 2 i: 43, pairs changed 0\n",
      "fullset, iterNUm: 2 i: 44, pairs changed 0\n",
      "fullset, iterNUm: 2 i: 45, pairs changed 0\n",
      "j not moving enough\n",
      "fullset, iterNUm: 2 i: 46, pairs changed 0\n",
      "fullset, iterNUm: 2 i: 47, pairs changed 0\n",
      "fullset, iterNUm: 2 i: 48, pairs changed 0\n",
      "fullset, iterNUm: 2 i: 49, pairs changed 0\n",
      "fullset, iterNUm: 2 i: 50, pairs changed 0\n",
      "fullset, iterNUm: 2 i: 51, pairs changed 0\n",
      "L==H\n",
      "fullset, iterNUm: 2 i: 52, pairs changed 0\n",
      "fullset, iterNUm: 2 i: 53, pairs changed 0\n",
      "L==H\n",
      "fullset, iterNUm: 2 i: 54, pairs changed 0\n",
      "fullset, iterNUm: 2 i: 55, pairs changed 0\n",
      "fullset, iterNUm: 2 i: 56, pairs changed 0\n",
      "fullset, iterNUm: 2 i: 57, pairs changed 0\n",
      "fullset, iterNUm: 2 i: 58, pairs changed 0\n",
      "fullset, iterNUm: 2 i: 59, pairs changed 0\n",
      "fullset, iterNUm: 2 i: 60, pairs changed 0\n",
      "fullset, iterNUm: 2 i: 61, pairs changed 0\n",
      "fullset, iterNUm: 2 i: 62, pairs changed 0\n",
      "fullset, iterNUm: 2 i: 63, pairs changed 0\n",
      "fullset, iterNUm: 2 i: 64, pairs changed 0\n",
      "fullset, iterNUm: 2 i: 65, pairs changed 0\n",
      "fullset, iterNUm: 2 i: 66, pairs changed 0\n",
      "fullset, iterNUm: 2 i: 67, pairs changed 0\n",
      "fullset, iterNUm: 2 i: 68, pairs changed 0\n",
      "fullset, iterNUm: 2 i: 69, pairs changed 0\n",
      "fullset, iterNUm: 2 i: 70, pairs changed 0\n",
      "fullset, iterNUm: 2 i: 71, pairs changed 0\n",
      "fullset, iterNUm: 2 i: 72, pairs changed 0\n",
      "fullset, iterNUm: 2 i: 73, pairs changed 0\n",
      "fullset, iterNUm: 2 i: 74, pairs changed 0\n",
      "fullset, iterNUm: 2 i: 75, pairs changed 0\n",
      "fullset, iterNUm: 2 i: 76, pairs changed 0\n",
      "fullset, iterNUm: 2 i: 77, pairs changed 0\n",
      "fullset, iterNUm: 2 i: 78, pairs changed 0\n",
      "fullset, iterNUm: 2 i: 79, pairs changed 0\n",
      "fullset, iterNUm: 2 i: 80, pairs changed 0\n",
      "fullset, iterNUm: 2 i: 81, pairs changed 0\n",
      "fullset, iterNUm: 2 i: 82, pairs changed 0\n",
      "fullset, iterNUm: 2 i: 83, pairs changed 0\n",
      "fullset, iterNUm: 2 i: 84, pairs changed 0\n",
      "fullset, iterNUm: 2 i: 85, pairs changed 0\n",
      "fullset, iterNUm: 2 i: 86, pairs changed 0\n",
      "fullset, iterNUm: 2 i: 87, pairs changed 0\n",
      "fullset, iterNUm: 2 i: 88, pairs changed 0\n",
      "fullset, iterNUm: 2 i: 89, pairs changed 0\n",
      "fullset, iterNUm: 2 i: 90, pairs changed 0\n",
      "fullset, iterNUm: 2 i: 91, pairs changed 0\n",
      "fullset, iterNUm: 2 i: 92, pairs changed 0\n",
      "fullset, iterNUm: 2 i: 93, pairs changed 0\n",
      "fullset, iterNUm: 2 i: 94, pairs changed 0\n",
      "fullset, iterNUm: 2 i: 95, pairs changed 0\n",
      "fullset, iterNUm: 2 i: 96, pairs changed 0\n",
      "j not moving enough\n",
      "fullset, iterNUm: 2 i: 97, pairs changed 0\n",
      "fullset, iterNUm: 2 i: 98, pairs changed 0\n",
      "fullset, iterNUm: 2 i: 99, pairs changed 0\n",
      "iteration number: 3\n"
     ]
    }
   ],
   "source": [
    "b,alphas = smoP(dataArr,labelArr,0.6,0.001,40)"
   ]
  },
  {
   "cell_type": "code",
   "execution_count": 49,
   "metadata": {},
   "outputs": [
    {
     "data": {
      "text/plain": [
       "matrix([[-2.89901748]])"
      ]
     },
     "execution_count": 49,
     "metadata": {},
     "output_type": "execute_result"
    }
   ],
   "source": [
    "b"
   ]
  },
  {
   "cell_type": "code",
   "execution_count": 50,
   "metadata": {},
   "outputs": [
    {
     "data": {
      "text/plain": [
       "matrix([[ 0.06961952,  0.0169055 ,  0.0169055 ,  0.0272699 ,  0.04522972,\n",
       "          0.0272699 ,  0.0243898 ,  0.06140181,  0.06140181]])"
      ]
     },
     "execution_count": 50,
     "metadata": {},
     "output_type": "execute_result"
    }
   ],
   "source": [
    "alphas[alphas>0]"
   ]
  },
  {
   "cell_type": "code",
   "execution_count": 51,
   "metadata": {},
   "outputs": [
    {
     "name": "stdout",
     "output_type": "stream",
     "text": [
      "[3.542485, 1.977398]-1.0\n",
      "[2.114999, -0.004466]-1.0\n",
      "[8.127113, 1.274372]1.0\n",
      "[4.658191, 3.507396]-1.0\n",
      "[8.197181, 1.545132]1.0\n",
      "[7.40786, -0.121961]1.0\n",
      "[6.960661, -0.245353]1.0\n",
      "[6.080573, 0.418886]1.0\n",
      "[3.107511, 0.758367]-1.0\n"
     ]
    }
   ],
   "source": [
    "for i in range(100):\n",
    "    if alphas[i] > 0.0:\n",
    "        print(str(dataArr[i])+str(labelArr[i]))"
   ]
  },
  {
   "cell_type": "code",
   "execution_count": 52,
   "metadata": {
    "collapsed": true
   },
   "outputs": [],
   "source": [
    "def clacWs(alphas,dataArr,labelArr):\n",
    "    dataMat = np.mat(dataArr)\n",
    "    labelMat = np.mat(labelArr).transpose()\n",
    "    m,n= np.shape(dataArr)\n",
    "    weights = np.zeros((n,1))\n",
    "#     weights = dataMat.T*np.multiply(alphas,labelMat)\n",
    "    for i in range(m):\n",
    "        weights += np.multiply(alphas[i]*labelMat[i],dataMat[i,:].T)\n",
    "    return weights"
   ]
  },
  {
   "cell_type": "code",
   "execution_count": 53,
   "metadata": {
    "collapsed": true
   },
   "outputs": [],
   "source": [
    "weights = clacWs(alphas,dataArr,labelArr)"
   ]
  },
  {
   "cell_type": "code",
   "execution_count": 54,
   "metadata": {
    "collapsed": true
   },
   "outputs": [],
   "source": [
    "def classify(weights,b,dataArr):\n",
    "    dataMat = np.mat(dataArr)\n",
    "    return dataMat[0]*weights+b"
   ]
  },
  {
   "cell_type": "code",
   "execution_count": 55,
   "metadata": {},
   "outputs": [
    {
     "data": {
      "text/plain": [
       "matrix([[-0.92555695]])"
      ]
     },
     "execution_count": 55,
     "metadata": {},
     "output_type": "execute_result"
    }
   ],
   "source": [
    "classify(weights,b,[3.542485,1.977398])"
   ]
  },
  {
   "cell_type": "code",
   "execution_count": 56,
   "metadata": {
    "collapsed": true
   },
   "outputs": [],
   "source": [
    "# plot with matplotlib\n",
    "def plotBestFit(alphas,b,dataArr,labelArr):\n",
    "    dataMat = np.mat(dataArr)\n",
    "    labelMat = np.mat(labelArr).transpose()\n",
    "    m,n= np.shape(dataArr)\n",
    "    # 绘制两类数据点\n",
    "    xcord1 = []\n",
    "    xcord2 = []\n",
    "    ycord1 = []\n",
    "    ycord2 = []\n",
    "    for i in range(m):\n",
    "        if int(labelMat[i,0]) == 1.0:\n",
    "            xcord1.append(dataMat[i,0])\n",
    "            ycord1.append(dataMat[i,1])\n",
    "        else:\n",
    "            xcord2.append(dataMat[i,0])\n",
    "            ycord2.append(dataMat[i,1])\n",
    "    fig = plt.figure()\n",
    "    ax = fig.add_subplot(111)\n",
    "    ax.scatter(xcord1,ycord1,s= 30,c = 'red',marker = 's')\n",
    "    ax.scatter(xcord2,ycord2,s= 30,c = 'blue')\n",
    "    # 绘制支持向量\n",
    "    spVector = np.array([[dataMat[i,0],dataMat[i,1]] for i in range(m) if alphas[i] > 0.0])\n",
    "#     print(spVector)\n",
    "    ax.scatter(spVector[:,0],spVector[:,1],s= 30,c = 'yellow')\n",
    "    # 绘制决策边界\n",
    "    x1 = np.arange(-1.0,10.0,0.1)\n",
    "    weights = np.zeros((n,1))\n",
    "    for i in range(m):\n",
    "        weights += np.multiply(alphas[i]*labelMat[i],dataMat[i,:].T)\n",
    "    x2 = -(b+ weights[0]*x1)/weights[1] # 0 = w0*x0 + w1*x1 + w2*x2\n",
    "    ax.plot(x1,x2.getA1()) # 注意这里的维度问题 mat对象即使扁平化也是1*n维度的，getA1() 获得一个数组\n",
    "    plt.xlabel(\"X1\")\n",
    "    plt.ylabel('X2')\n",
    "    plt.show()"
   ]
  },
  {
   "cell_type": "code",
   "execution_count": 57,
   "metadata": {},
   "outputs": [
    {
     "data": {
      "image/png": "[encoded data removed]",
      "text/plain": [
       "<matplotlib.figure.Figure at 0x2118b77ba58>"
      ]
     },
     "metadata": {},
     "output_type": "display_data"
    }
   ],
   "source": [
    "plotBestFit(alphas,b,dataArr,labelArr)"
   ]
  },
  {
   "cell_type": "code",
   "execution_count": 64,
   "metadata": {},
   "outputs": [
    {
     "data": {
      "text/plain": [
       "4"
      ]
     },
     "execution_count": 64,
     "metadata": {},
     "output_type": "execute_result"
    }
   ],
   "source": [
    "len([1,2,3,4])"
   ]
  }
 ],
 "metadata": {
  "kernelspec": {
   "display_name": "Python 3.6 root",
   "language": "python",
   "name": "python3"
  },
  "language_info": {
   "codemirror_mode": {
    "name": "ipython",
    "version": 3
   },
   "file_extension": ".py",
   "mimetype": "text/x-python",
   "name": "python",
   "nbconvert_exporter": "python",
   "pygments_lexer": "ipython3",
   "version": "3.6.3"
  }
 },
 "nbformat": 4,
 "nbformat_minor": 2
}
